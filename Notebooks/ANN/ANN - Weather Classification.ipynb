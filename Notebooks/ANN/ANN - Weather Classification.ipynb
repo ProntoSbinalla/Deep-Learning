{
 "cells": [
  {
   "cell_type": "markdown",
   "metadata": {},
   "source": [
    "# Artifical Neural Nets to Predict the Weather"
   ]
  },
  {
   "cell_type": "markdown",
   "metadata": {},
   "source": [
    "## Importing Libraries"
   ]
  },
  {
   "cell_type": "code",
   "execution_count": 43,
   "metadata": {},
   "outputs": [],
   "source": [
    "import numpy as np\n",
    "import pandas as pd\n",
    "import tensorflow as tf\n",
    "import matplotlib.pyplot as plt\n",
    "import seaborn as sns\n",
    "sns.set()\n",
    "\n",
    "from sklearn.model_selection import train_test_split\n",
    "from sklearn.preprocessing import StandardScaler, OneHotEncoder, LabelEncoder\n",
    "from sklearn.metrics import confusion_matrix, accuracy_score\n",
    "from tensorflow.keras.utils import to_categorical"
   ]
  },
  {
   "cell_type": "markdown",
   "metadata": {},
   "source": [
    "## Data Pre-Processing"
   ]
  },
  {
   "cell_type": "markdown",
   "metadata": {},
   "source": [
    "### Importing Data"
   ]
  },
  {
   "cell_type": "code",
   "execution_count": 44,
   "metadata": {},
   "outputs": [
    {
     "data": {
      "application/vnd.microsoft.datawrangler.viewer.v0+json": {
       "columns": [
        {
         "name": "index",
         "rawType": "int64",
         "type": "integer"
        },
        {
         "name": "Temperature",
         "rawType": "float64",
         "type": "float"
        },
        {
         "name": "Humidity",
         "rawType": "int64",
         "type": "integer"
        },
        {
         "name": "Wind Speed",
         "rawType": "float64",
         "type": "float"
        },
        {
         "name": "Precipitation (%)",
         "rawType": "float64",
         "type": "float"
        },
        {
         "name": "Cloud Cover",
         "rawType": "object",
         "type": "string"
        },
        {
         "name": "Atmospheric Pressure",
         "rawType": "float64",
         "type": "float"
        },
        {
         "name": "UV Index",
         "rawType": "int64",
         "type": "integer"
        },
        {
         "name": "Season",
         "rawType": "object",
         "type": "string"
        },
        {
         "name": "Visibility (km)",
         "rawType": "float64",
         "type": "float"
        },
        {
         "name": "Location",
         "rawType": "object",
         "type": "string"
        },
        {
         "name": "Weather Type",
         "rawType": "object",
         "type": "string"
        }
       ],
       "conversionMethod": "pd.DataFrame",
       "ref": "57b04407-63a8-4f27-9f69-542f4347c86e",
       "rows": [
        [
         "0",
         "14.0",
         "73",
         "9.5",
         "82.0",
         "partly cloudy",
         "1010.82",
         "2",
         "Winter",
         "3.5",
         "inland",
         "Rainy"
        ],
        [
         "1",
         "39.0",
         "96",
         "8.5",
         "71.0",
         "partly cloudy",
         "1011.43",
         "7",
         "Spring",
         "10.0",
         "inland",
         "Cloudy"
        ],
        [
         "2",
         "30.0",
         "64",
         "7.0",
         "16.0",
         "clear",
         "1018.72",
         "5",
         "Spring",
         "5.5",
         "mountain",
         "Sunny"
        ],
        [
         "3",
         "38.0",
         "83",
         "1.5",
         "82.0",
         "clear",
         "1026.25",
         "7",
         "Spring",
         "1.0",
         "coastal",
         "Sunny"
        ],
        [
         "4",
         "27.0",
         "74",
         "17.0",
         "66.0",
         "overcast",
         "990.67",
         "1",
         "Winter",
         "2.5",
         "mountain",
         "Rainy"
        ]
       ],
       "shape": {
        "columns": 11,
        "rows": 5
       }
      },
      "text/html": [
       "<div>\n",
       "<style scoped>\n",
       "    .dataframe tbody tr th:only-of-type {\n",
       "        vertical-align: middle;\n",
       "    }\n",
       "\n",
       "    .dataframe tbody tr th {\n",
       "        vertical-align: top;\n",
       "    }\n",
       "\n",
       "    .dataframe thead th {\n",
       "        text-align: right;\n",
       "    }\n",
       "</style>\n",
       "<table border=\"1\" class=\"dataframe\">\n",
       "  <thead>\n",
       "    <tr style=\"text-align: right;\">\n",
       "      <th></th>\n",
       "      <th>Temperature</th>\n",
       "      <th>Humidity</th>\n",
       "      <th>Wind Speed</th>\n",
       "      <th>Precipitation (%)</th>\n",
       "      <th>Cloud Cover</th>\n",
       "      <th>Atmospheric Pressure</th>\n",
       "      <th>UV Index</th>\n",
       "      <th>Season</th>\n",
       "      <th>Visibility (km)</th>\n",
       "      <th>Location</th>\n",
       "      <th>Weather Type</th>\n",
       "    </tr>\n",
       "  </thead>\n",
       "  <tbody>\n",
       "    <tr>\n",
       "      <th>0</th>\n",
       "      <td>14.0</td>\n",
       "      <td>73</td>\n",
       "      <td>9.5</td>\n",
       "      <td>82.0</td>\n",
       "      <td>partly cloudy</td>\n",
       "      <td>1010.82</td>\n",
       "      <td>2</td>\n",
       "      <td>Winter</td>\n",
       "      <td>3.5</td>\n",
       "      <td>inland</td>\n",
       "      <td>Rainy</td>\n",
       "    </tr>\n",
       "    <tr>\n",
       "      <th>1</th>\n",
       "      <td>39.0</td>\n",
       "      <td>96</td>\n",
       "      <td>8.5</td>\n",
       "      <td>71.0</td>\n",
       "      <td>partly cloudy</td>\n",
       "      <td>1011.43</td>\n",
       "      <td>7</td>\n",
       "      <td>Spring</td>\n",
       "      <td>10.0</td>\n",
       "      <td>inland</td>\n",
       "      <td>Cloudy</td>\n",
       "    </tr>\n",
       "    <tr>\n",
       "      <th>2</th>\n",
       "      <td>30.0</td>\n",
       "      <td>64</td>\n",
       "      <td>7.0</td>\n",
       "      <td>16.0</td>\n",
       "      <td>clear</td>\n",
       "      <td>1018.72</td>\n",
       "      <td>5</td>\n",
       "      <td>Spring</td>\n",
       "      <td>5.5</td>\n",
       "      <td>mountain</td>\n",
       "      <td>Sunny</td>\n",
       "    </tr>\n",
       "    <tr>\n",
       "      <th>3</th>\n",
       "      <td>38.0</td>\n",
       "      <td>83</td>\n",
       "      <td>1.5</td>\n",
       "      <td>82.0</td>\n",
       "      <td>clear</td>\n",
       "      <td>1026.25</td>\n",
       "      <td>7</td>\n",
       "      <td>Spring</td>\n",
       "      <td>1.0</td>\n",
       "      <td>coastal</td>\n",
       "      <td>Sunny</td>\n",
       "    </tr>\n",
       "    <tr>\n",
       "      <th>4</th>\n",
       "      <td>27.0</td>\n",
       "      <td>74</td>\n",
       "      <td>17.0</td>\n",
       "      <td>66.0</td>\n",
       "      <td>overcast</td>\n",
       "      <td>990.67</td>\n",
       "      <td>1</td>\n",
       "      <td>Winter</td>\n",
       "      <td>2.5</td>\n",
       "      <td>mountain</td>\n",
       "      <td>Rainy</td>\n",
       "    </tr>\n",
       "  </tbody>\n",
       "</table>\n",
       "</div>"
      ],
      "text/plain": [
       "   Temperature  Humidity  Wind Speed  Precipitation (%)    Cloud Cover  \\\n",
       "0         14.0        73         9.5               82.0  partly cloudy   \n",
       "1         39.0        96         8.5               71.0  partly cloudy   \n",
       "2         30.0        64         7.0               16.0          clear   \n",
       "3         38.0        83         1.5               82.0          clear   \n",
       "4         27.0        74        17.0               66.0       overcast   \n",
       "\n",
       "   Atmospheric Pressure  UV Index  Season  Visibility (km)  Location  \\\n",
       "0               1010.82         2  Winter              3.5    inland   \n",
       "1               1011.43         7  Spring             10.0    inland   \n",
       "2               1018.72         5  Spring              5.5  mountain   \n",
       "3               1026.25         7  Spring              1.0   coastal   \n",
       "4                990.67         1  Winter              2.5  mountain   \n",
       "\n",
       "  Weather Type  \n",
       "0        Rainy  \n",
       "1       Cloudy  \n",
       "2        Sunny  \n",
       "3        Sunny  \n",
       "4        Rainy  "
      ]
     },
     "execution_count": 44,
     "metadata": {},
     "output_type": "execute_result"
    }
   ],
   "source": [
    "data = pd.read_csv(\"../Datasets/weather_classification_data.csv\")\n",
    "\n",
    "data.head()"
   ]
  },
  {
   "cell_type": "code",
   "execution_count": 45,
   "metadata": {},
   "outputs": [
    {
     "data": {
      "text/plain": [
       "(13200, 11)"
      ]
     },
     "execution_count": 45,
     "metadata": {},
     "output_type": "execute_result"
    }
   ],
   "source": [
    "data.shape"
   ]
  },
  {
   "cell_type": "code",
   "execution_count": 46,
   "metadata": {},
   "outputs": [
    {
     "data": {
      "text/plain": [
       "Temperature             float64\n",
       "Humidity                  int64\n",
       "Wind Speed              float64\n",
       "Precipitation (%)       float64\n",
       "Cloud Cover              object\n",
       "Atmospheric Pressure    float64\n",
       "UV Index                  int64\n",
       "Season                   object\n",
       "Visibility (km)         float64\n",
       "Location                 object\n",
       "Weather Type             object\n",
       "dtype: object"
      ]
     },
     "execution_count": 46,
     "metadata": {},
     "output_type": "execute_result"
    }
   ],
   "source": [
    "data.dtypes"
   ]
  },
  {
   "cell_type": "markdown",
   "metadata": {},
   "source": [
    "### Null Value Analysis"
   ]
  },
  {
   "cell_type": "code",
   "execution_count": 47,
   "metadata": {},
   "outputs": [
    {
     "data": {
      "text/plain": [
       "Temperature             0\n",
       "Humidity                0\n",
       "Wind Speed              0\n",
       "Precipitation (%)       0\n",
       "Cloud Cover             0\n",
       "Atmospheric Pressure    0\n",
       "UV Index                0\n",
       "Season                  0\n",
       "Visibility (km)         0\n",
       "Location                0\n",
       "Weather Type            0\n",
       "dtype: int64"
      ]
     },
     "execution_count": 47,
     "metadata": {},
     "output_type": "execute_result"
    }
   ],
   "source": [
    "data.isnull().sum()"
   ]
  },
  {
   "cell_type": "markdown",
   "metadata": {},
   "source": [
    "### General Overview of the Data"
   ]
  },
  {
   "cell_type": "code",
   "execution_count": 48,
   "metadata": {},
   "outputs": [
    {
     "data": {
      "application/vnd.microsoft.datawrangler.viewer.v0+json": {
       "columns": [
        {
         "name": "index",
         "rawType": "object",
         "type": "string"
        },
        {
         "name": "Temperature",
         "rawType": "float64",
         "type": "float"
        },
        {
         "name": "Humidity",
         "rawType": "float64",
         "type": "float"
        },
        {
         "name": "Wind Speed",
         "rawType": "float64",
         "type": "float"
        },
        {
         "name": "Precipitation (%)",
         "rawType": "float64",
         "type": "float"
        },
        {
         "name": "Atmospheric Pressure",
         "rawType": "float64",
         "type": "float"
        },
        {
         "name": "UV Index",
         "rawType": "float64",
         "type": "float"
        },
        {
         "name": "Visibility (km)",
         "rawType": "float64",
         "type": "float"
        }
       ],
       "conversionMethod": "pd.DataFrame",
       "ref": "18b04582-518a-449c-841f-e6ddbb6f1fbf",
       "rows": [
        [
         "count",
         "13200.0",
         "13200.0",
         "13200.0",
         "13200.0",
         "13200.0",
         "13200.0",
         "13200.0"
        ],
        [
         "mean",
         "19.12757575757576",
         "68.71083333333333",
         "9.83219696969697",
         "53.644393939393936",
         "1005.8278962121212",
         "4.005757575757576",
         "5.462916666666667"
        ],
        [
         "std",
         "17.386326582360788",
         "20.194248090636044",
         "6.908704141531295",
         "31.946540769981375",
         "37.199588697503295",
         "3.856600361428701",
         "3.371498910353949"
        ],
        [
         "min",
         "-25.0",
         "20.0",
         "0.0",
         "0.0",
         "800.12",
         "0.0",
         "0.0"
        ],
        [
         "25%",
         "4.0",
         "57.0",
         "5.0",
         "19.0",
         "994.8",
         "1.0",
         "3.0"
        ],
        [
         "50%",
         "21.0",
         "70.0",
         "9.0",
         "58.0",
         "1007.65",
         "3.0",
         "5.0"
        ],
        [
         "75%",
         "31.0",
         "84.0",
         "13.5",
         "82.0",
         "1016.7725",
         "7.0",
         "7.5"
        ],
        [
         "max",
         "109.0",
         "109.0",
         "48.5",
         "109.0",
         "1199.21",
         "14.0",
         "20.0"
        ]
       ],
       "shape": {
        "columns": 7,
        "rows": 8
       }
      },
      "text/html": [
       "<div>\n",
       "<style scoped>\n",
       "    .dataframe tbody tr th:only-of-type {\n",
       "        vertical-align: middle;\n",
       "    }\n",
       "\n",
       "    .dataframe tbody tr th {\n",
       "        vertical-align: top;\n",
       "    }\n",
       "\n",
       "    .dataframe thead th {\n",
       "        text-align: right;\n",
       "    }\n",
       "</style>\n",
       "<table border=\"1\" class=\"dataframe\">\n",
       "  <thead>\n",
       "    <tr style=\"text-align: right;\">\n",
       "      <th></th>\n",
       "      <th>Temperature</th>\n",
       "      <th>Humidity</th>\n",
       "      <th>Wind Speed</th>\n",
       "      <th>Precipitation (%)</th>\n",
       "      <th>Atmospheric Pressure</th>\n",
       "      <th>UV Index</th>\n",
       "      <th>Visibility (km)</th>\n",
       "    </tr>\n",
       "  </thead>\n",
       "  <tbody>\n",
       "    <tr>\n",
       "      <th>count</th>\n",
       "      <td>13200.000000</td>\n",
       "      <td>13200.000000</td>\n",
       "      <td>13200.000000</td>\n",
       "      <td>13200.000000</td>\n",
       "      <td>13200.000000</td>\n",
       "      <td>13200.000000</td>\n",
       "      <td>13200.000000</td>\n",
       "    </tr>\n",
       "    <tr>\n",
       "      <th>mean</th>\n",
       "      <td>19.127576</td>\n",
       "      <td>68.710833</td>\n",
       "      <td>9.832197</td>\n",
       "      <td>53.644394</td>\n",
       "      <td>1005.827896</td>\n",
       "      <td>4.005758</td>\n",
       "      <td>5.462917</td>\n",
       "    </tr>\n",
       "    <tr>\n",
       "      <th>std</th>\n",
       "      <td>17.386327</td>\n",
       "      <td>20.194248</td>\n",
       "      <td>6.908704</td>\n",
       "      <td>31.946541</td>\n",
       "      <td>37.199589</td>\n",
       "      <td>3.856600</td>\n",
       "      <td>3.371499</td>\n",
       "    </tr>\n",
       "    <tr>\n",
       "      <th>min</th>\n",
       "      <td>-25.000000</td>\n",
       "      <td>20.000000</td>\n",
       "      <td>0.000000</td>\n",
       "      <td>0.000000</td>\n",
       "      <td>800.120000</td>\n",
       "      <td>0.000000</td>\n",
       "      <td>0.000000</td>\n",
       "    </tr>\n",
       "    <tr>\n",
       "      <th>25%</th>\n",
       "      <td>4.000000</td>\n",
       "      <td>57.000000</td>\n",
       "      <td>5.000000</td>\n",
       "      <td>19.000000</td>\n",
       "      <td>994.800000</td>\n",
       "      <td>1.000000</td>\n",
       "      <td>3.000000</td>\n",
       "    </tr>\n",
       "    <tr>\n",
       "      <th>50%</th>\n",
       "      <td>21.000000</td>\n",
       "      <td>70.000000</td>\n",
       "      <td>9.000000</td>\n",
       "      <td>58.000000</td>\n",
       "      <td>1007.650000</td>\n",
       "      <td>3.000000</td>\n",
       "      <td>5.000000</td>\n",
       "    </tr>\n",
       "    <tr>\n",
       "      <th>75%</th>\n",
       "      <td>31.000000</td>\n",
       "      <td>84.000000</td>\n",
       "      <td>13.500000</td>\n",
       "      <td>82.000000</td>\n",
       "      <td>1016.772500</td>\n",
       "      <td>7.000000</td>\n",
       "      <td>7.500000</td>\n",
       "    </tr>\n",
       "    <tr>\n",
       "      <th>max</th>\n",
       "      <td>109.000000</td>\n",
       "      <td>109.000000</td>\n",
       "      <td>48.500000</td>\n",
       "      <td>109.000000</td>\n",
       "      <td>1199.210000</td>\n",
       "      <td>14.000000</td>\n",
       "      <td>20.000000</td>\n",
       "    </tr>\n",
       "  </tbody>\n",
       "</table>\n",
       "</div>"
      ],
      "text/plain": [
       "        Temperature      Humidity    Wind Speed  Precipitation (%)  \\\n",
       "count  13200.000000  13200.000000  13200.000000       13200.000000   \n",
       "mean      19.127576     68.710833      9.832197          53.644394   \n",
       "std       17.386327     20.194248      6.908704          31.946541   \n",
       "min      -25.000000     20.000000      0.000000           0.000000   \n",
       "25%        4.000000     57.000000      5.000000          19.000000   \n",
       "50%       21.000000     70.000000      9.000000          58.000000   \n",
       "75%       31.000000     84.000000     13.500000          82.000000   \n",
       "max      109.000000    109.000000     48.500000         109.000000   \n",
       "\n",
       "       Atmospheric Pressure      UV Index  Visibility (km)  \n",
       "count          13200.000000  13200.000000     13200.000000  \n",
       "mean            1005.827896      4.005758         5.462917  \n",
       "std               37.199589      3.856600         3.371499  \n",
       "min              800.120000      0.000000         0.000000  \n",
       "25%              994.800000      1.000000         3.000000  \n",
       "50%             1007.650000      3.000000         5.000000  \n",
       "75%             1016.772500      7.000000         7.500000  \n",
       "max             1199.210000     14.000000        20.000000  "
      ]
     },
     "execution_count": 48,
     "metadata": {},
     "output_type": "execute_result"
    }
   ],
   "source": [
    "data.describe()"
   ]
  },
  {
   "cell_type": "markdown",
   "metadata": {},
   "source": [
    "Outliers do exist in this dataset. Temperature in °C is above 100°C and the Precipitation and the Humidity Percentage being above 100%. This shows that outliers are existing and they need to be removed from this dataset"
   ]
  },
  {
   "cell_type": "markdown",
   "metadata": {},
   "source": [
    "### Outlier Detection"
   ]
  },
  {
   "cell_type": "code",
   "execution_count": 49,
   "metadata": {},
   "outputs": [
    {
     "data": {
      "application/vnd.microsoft.datawrangler.viewer.v0+json": {
       "columns": [
        {
         "name": "index",
         "rawType": "int64",
         "type": "integer"
        },
        {
         "name": "Temperature",
         "rawType": "float64",
         "type": "float"
        },
        {
         "name": "Humidity",
         "rawType": "int64",
         "type": "integer"
        },
        {
         "name": "Wind Speed",
         "rawType": "float64",
         "type": "float"
        },
        {
         "name": "Precipitation (%)",
         "rawType": "float64",
         "type": "float"
        },
        {
         "name": "Cloud Cover",
         "rawType": "object",
         "type": "string"
        },
        {
         "name": "Atmospheric Pressure",
         "rawType": "float64",
         "type": "float"
        },
        {
         "name": "UV Index",
         "rawType": "int64",
         "type": "integer"
        },
        {
         "name": "Season",
         "rawType": "object",
         "type": "string"
        },
        {
         "name": "Visibility (km)",
         "rawType": "float64",
         "type": "float"
        },
        {
         "name": "Location",
         "rawType": "object",
         "type": "string"
        },
        {
         "name": "Weather Type",
         "rawType": "object",
         "type": "string"
        }
       ],
       "conversionMethod": "pd.DataFrame",
       "ref": "46d6ed73-6058-4497-b78f-01708092867a",
       "rows": [
        [
         "0",
         "14.0",
         "73",
         "9.5",
         "82.0",
         "partly cloudy",
         "1010.82",
         "2",
         "Winter",
         "3.5",
         "inland",
         "Rainy"
        ],
        [
         "1",
         "39.0",
         "96",
         "8.5",
         "71.0",
         "partly cloudy",
         "1011.43",
         "7",
         "Spring",
         "10.0",
         "inland",
         "Cloudy"
        ],
        [
         "2",
         "30.0",
         "64",
         "7.0",
         "16.0",
         "clear",
         "1018.72",
         "5",
         "Spring",
         "5.5",
         "mountain",
         "Sunny"
        ],
        [
         "3",
         "38.0",
         "83",
         "1.5",
         "82.0",
         "clear",
         "1026.25",
         "7",
         "Spring",
         "1.0",
         "coastal",
         "Sunny"
        ],
        [
         "4",
         "27.0",
         "74",
         "17.0",
         "66.0",
         "overcast",
         "990.67",
         "1",
         "Winter",
         "2.5",
         "mountain",
         "Rainy"
        ],
        [
         "5",
         "32.0",
         "55",
         "3.5",
         "26.0",
         "overcast",
         "1010.03",
         "2",
         "Summer",
         "5.0",
         "inland",
         "Cloudy"
        ],
        [
         "6",
         "-2.0",
         "97",
         "8.0",
         "86.0",
         "overcast",
         "990.87",
         "1",
         "Winter",
         "4.0",
         "inland",
         "Snowy"
        ],
        [
         "7",
         "3.0",
         "85",
         "6.0",
         "96.0",
         "partly cloudy",
         "984.46",
         "1",
         "Winter",
         "3.5",
         "inland",
         "Snowy"
        ],
        [
         "8",
         "3.0",
         "83",
         "6.0",
         "66.0",
         "overcast",
         "999.44",
         "0",
         "Winter",
         "1.0",
         "mountain",
         "Snowy"
        ],
        [
         "9",
         "38.0",
         "43",
         "2.0",
         "16.0",
         "clear",
         "1029.16",
         "11",
         "Autumn",
         "7.5",
         "inland",
         "Sunny"
        ],
        [
         "10",
         "12.0",
         "59",
         "10.5",
         "25.0",
         "partly cloudy",
         "1016.08",
         "3",
         "Autumn",
         "5.5",
         "mountain",
         "Cloudy"
        ],
        [
         "11",
         "-10.0",
         "87",
         "15.0",
         "67.0",
         "overcast",
         "986.19",
         "0",
         "Winter",
         "1.5",
         "inland",
         "Snowy"
        ],
        [
         "12",
         "24.0",
         "21",
         "3.5",
         "8.0",
         "clear",
         "1018.88",
         "8",
         "Winter",
         "5.5",
         "coastal",
         "Sunny"
        ],
        [
         "13",
         "10.0",
         "50",
         "6.5",
         "46.0",
         "partly cloudy",
         "1000.44",
         "2",
         "Summer",
         "8.5",
         "mountain",
         "Cloudy"
        ],
        [
         "14",
         "30.0",
         "27",
         "7.0",
         "13.0",
         "partly cloudy",
         "1016.38",
         "5",
         "Spring",
         "7.5",
         "inland",
         "Sunny"
        ],
        [
         "15",
         "33.0",
         "51",
         "0.5",
         "27.0",
         "overcast",
         "1009.18",
         "3",
         "Autumn",
         "5.5",
         "coastal",
         "Cloudy"
        ],
        [
         "16",
         "43.0",
         "46",
         "0.5",
         "15.0",
         "clear",
         "1025.8",
         "9",
         "Spring",
         "6.0",
         "mountain",
         "Sunny"
        ],
        [
         "17",
         "-10.0",
         "67",
         "8.5",
         "75.0",
         "overcast",
         "991.53",
         "1",
         "Winter",
         "3.0",
         "mountain",
         "Snowy"
        ],
        [
         "18",
         "-7.0",
         "88",
         "12.5",
         "98.0",
         "overcast",
         "980.31",
         "1",
         "Winter",
         "3.0",
         "inland",
         "Snowy"
        ],
        [
         "19",
         "33.0",
         "36",
         "7.5",
         "18.0",
         "clear",
         "1014.29",
         "8",
         "Summer",
         "9.5",
         "mountain",
         "Sunny"
        ],
        [
         "20",
         "26.0",
         "73",
         "13.5",
         "29.0",
         "overcast",
         "1012.02",
         "1",
         "Summer",
         "9.0",
         "inland",
         "Cloudy"
        ],
        [
         "21",
         "4.0",
         "79",
         "1.0",
         "85.0",
         "partly cloudy",
         "982.53",
         "1",
         "Winter",
         "4.5",
         "inland",
         "Snowy"
        ],
        [
         "22",
         "17.0",
         "72",
         "7.5",
         "62.0",
         "overcast",
         "1010.16",
         "2",
         "Summer",
         "3.0",
         "mountain",
         "Rainy"
        ],
        [
         "23",
         "40.0",
         "57",
         "4.0",
         "12.0",
         "partly cloudy",
         "1020.73",
         "11",
         "Winter",
         "9.5",
         "coastal",
         "Sunny"
        ],
        [
         "24",
         "24.0",
         "61",
         "6.5",
         "3.0",
         "partly cloudy",
         "1018.15",
         "7",
         "Autumn",
         "5.5",
         "mountain",
         "Sunny"
        ],
        [
         "25",
         "30.0",
         "70",
         "16.0",
         "54.0",
         "partly cloudy",
         "1007.75",
         "0",
         "Winter",
         "3.0",
         "mountain",
         "Rainy"
        ],
        [
         "26",
         "28.0",
         "85",
         "7.0",
         "97.0",
         "overcast",
         "991.07",
         "1",
         "Spring",
         "2.0",
         "coastal",
         "Rainy"
        ],
        [
         "27",
         "2.0",
         "61",
         "16.5",
         "63.0",
         "overcast",
         "995.74",
         "0",
         "Winter",
         "1.0",
         "inland",
         "Snowy"
        ],
        [
         "28",
         "4.0",
         "95",
         "2.5",
         "56.0",
         "overcast",
         "984.63",
         "1",
         "Winter",
         "4.5",
         "inland",
         "Snowy"
        ],
        [
         "29",
         "15.0",
         "97",
         "23.0",
         "91.0",
         "overcast",
         "1009.36",
         "13",
         "Winter",
         "2.5",
         "mountain",
         "Rainy"
        ],
        [
         "30",
         "29.0",
         "69",
         "3.0",
         "15.0",
         "clear",
         "1012.09",
         "10",
         "Winter",
         "5.5",
         "inland",
         "Sunny"
        ],
        [
         "31",
         "35.0",
         "21",
         "10.0",
         "6.0",
         "clear",
         "1026.81",
         "5",
         "Autumn",
         "7.5",
         "coastal",
         "Sunny"
        ],
        [
         "32",
         "11.0",
         "90",
         "25.5",
         "76.0",
         "partly cloudy",
         "996.17",
         "0",
         "Winter",
         "1.0",
         "mountain",
         "Rainy"
        ],
        [
         "33",
         "27.0",
         "64",
         "11.5",
         "37.0",
         "partly cloudy",
         "1017.27",
         "3",
         "Autumn",
         "8.0",
         "coastal",
         "Cloudy"
        ],
        [
         "34",
         "32.0",
         "37",
         "0.5",
         "9.0",
         "partly cloudy",
         "1013.99",
         "11",
         "Winter",
         "8.5",
         "inland",
         "Sunny"
        ],
        [
         "35",
         "36.0",
         "22",
         "1.0",
         "0.0",
         "clear",
         "1028.63",
         "10",
         "Summer",
         "5.5",
         "mountain",
         "Sunny"
        ],
        [
         "36",
         "28.0",
         "54",
         "15.0",
         "39.0",
         "partly cloudy",
         "1018.86",
         "3",
         "Winter",
         "8.5",
         "mountain",
         "Cloudy"
        ],
        [
         "37",
         "42.0",
         "64",
         "2.0",
         "18.0",
         "partly cloudy",
         "1028.55",
         "8",
         "Autumn",
         "8.0",
         "mountain",
         "Sunny"
        ],
        [
         "38",
         "21.0",
         "43",
         "10.0",
         "11.0",
         "clear",
         "1019.41",
         "11",
         "Spring",
         "6.0",
         "mountain",
         "Sunny"
        ],
        [
         "39",
         "22.0",
         "50",
         "0.0",
         "18.0",
         "clear",
         "1016.5",
         "5",
         "Summer",
         "8.0",
         "coastal",
         "Sunny"
        ],
        [
         "40",
         "33.0",
         "66",
         "9.0",
         "18.0",
         "partly cloudy",
         "1014.34",
         "3",
         "Autumn",
         "6.0",
         "mountain",
         "Cloudy"
        ],
        [
         "41",
         "26.0",
         "25",
         "2.5",
         "14.0",
         "partly cloudy",
         "1010.34",
         "8",
         "Winter",
         "5.0",
         "mountain",
         "Sunny"
        ],
        [
         "42",
         "26.0",
         "91",
         "9.5",
         "82.0",
         "overcast",
         "1019.42",
         "3",
         "Summer",
         "4.0",
         "mountain",
         "Rainy"
        ],
        [
         "43",
         "-2.0",
         "98",
         "18.5",
         "86.0",
         "overcast",
         "981.26",
         "0",
         "Winter",
         "3.5",
         "mountain",
         "Snowy"
        ],
        [
         "44",
         "17.0",
         "90",
         "11.0",
         "98.0",
         "overcast",
         "1017.49",
         "3",
         "Winter",
         "4.0",
         "inland",
         "Rainy"
        ],
        [
         "45",
         "25.0",
         "55",
         "8.5",
         "37.0",
         "partly cloudy",
         "1014.49",
         "4",
         "Summer",
         "7.5",
         "inland",
         "Cloudy"
        ],
        [
         "46",
         "-4.0",
         "96",
         "20.0",
         "88.0",
         "partly cloudy",
         "990.72",
         "1",
         "Winter",
         "4.5",
         "mountain",
         "Snowy"
        ],
        [
         "47",
         "-1.0",
         "87",
         "14.0",
         "78.0",
         "overcast",
         "984.11",
         "0",
         "Winter",
         "4.0",
         "inland",
         "Snowy"
        ],
        [
         "48",
         "-5.0",
         "94",
         "5.5",
         "55.0",
         "overcast",
         "991.65",
         "0",
         "Winter",
         "3.0",
         "inland",
         "Snowy"
        ],
        [
         "49",
         "22.0",
         "95",
         "13.0",
         "90.0",
         "overcast",
         "997.97",
         "3",
         "Autumn",
         "2.5",
         "coastal",
         "Rainy"
        ]
       ],
       "shape": {
        "columns": 11,
        "rows": 11169
       }
      },
      "text/html": [
       "<div>\n",
       "<style scoped>\n",
       "    .dataframe tbody tr th:only-of-type {\n",
       "        vertical-align: middle;\n",
       "    }\n",
       "\n",
       "    .dataframe tbody tr th {\n",
       "        vertical-align: top;\n",
       "    }\n",
       "\n",
       "    .dataframe thead th {\n",
       "        text-align: right;\n",
       "    }\n",
       "</style>\n",
       "<table border=\"1\" class=\"dataframe\">\n",
       "  <thead>\n",
       "    <tr style=\"text-align: right;\">\n",
       "      <th></th>\n",
       "      <th>Temperature</th>\n",
       "      <th>Humidity</th>\n",
       "      <th>Wind Speed</th>\n",
       "      <th>Precipitation (%)</th>\n",
       "      <th>Cloud Cover</th>\n",
       "      <th>Atmospheric Pressure</th>\n",
       "      <th>UV Index</th>\n",
       "      <th>Season</th>\n",
       "      <th>Visibility (km)</th>\n",
       "      <th>Location</th>\n",
       "      <th>Weather Type</th>\n",
       "    </tr>\n",
       "  </thead>\n",
       "  <tbody>\n",
       "    <tr>\n",
       "      <th>0</th>\n",
       "      <td>14.0</td>\n",
       "      <td>73</td>\n",
       "      <td>9.5</td>\n",
       "      <td>82.0</td>\n",
       "      <td>partly cloudy</td>\n",
       "      <td>1010.82</td>\n",
       "      <td>2</td>\n",
       "      <td>Winter</td>\n",
       "      <td>3.5</td>\n",
       "      <td>inland</td>\n",
       "      <td>Rainy</td>\n",
       "    </tr>\n",
       "    <tr>\n",
       "      <th>1</th>\n",
       "      <td>39.0</td>\n",
       "      <td>96</td>\n",
       "      <td>8.5</td>\n",
       "      <td>71.0</td>\n",
       "      <td>partly cloudy</td>\n",
       "      <td>1011.43</td>\n",
       "      <td>7</td>\n",
       "      <td>Spring</td>\n",
       "      <td>10.0</td>\n",
       "      <td>inland</td>\n",
       "      <td>Cloudy</td>\n",
       "    </tr>\n",
       "    <tr>\n",
       "      <th>2</th>\n",
       "      <td>30.0</td>\n",
       "      <td>64</td>\n",
       "      <td>7.0</td>\n",
       "      <td>16.0</td>\n",
       "      <td>clear</td>\n",
       "      <td>1018.72</td>\n",
       "      <td>5</td>\n",
       "      <td>Spring</td>\n",
       "      <td>5.5</td>\n",
       "      <td>mountain</td>\n",
       "      <td>Sunny</td>\n",
       "    </tr>\n",
       "    <tr>\n",
       "      <th>3</th>\n",
       "      <td>38.0</td>\n",
       "      <td>83</td>\n",
       "      <td>1.5</td>\n",
       "      <td>82.0</td>\n",
       "      <td>clear</td>\n",
       "      <td>1026.25</td>\n",
       "      <td>7</td>\n",
       "      <td>Spring</td>\n",
       "      <td>1.0</td>\n",
       "      <td>coastal</td>\n",
       "      <td>Sunny</td>\n",
       "    </tr>\n",
       "    <tr>\n",
       "      <th>4</th>\n",
       "      <td>27.0</td>\n",
       "      <td>74</td>\n",
       "      <td>17.0</td>\n",
       "      <td>66.0</td>\n",
       "      <td>overcast</td>\n",
       "      <td>990.67</td>\n",
       "      <td>1</td>\n",
       "      <td>Winter</td>\n",
       "      <td>2.5</td>\n",
       "      <td>mountain</td>\n",
       "      <td>Rainy</td>\n",
       "    </tr>\n",
       "    <tr>\n",
       "      <th>...</th>\n",
       "      <td>...</td>\n",
       "      <td>...</td>\n",
       "      <td>...</td>\n",
       "      <td>...</td>\n",
       "      <td>...</td>\n",
       "      <td>...</td>\n",
       "      <td>...</td>\n",
       "      <td>...</td>\n",
       "      <td>...</td>\n",
       "      <td>...</td>\n",
       "      <td>...</td>\n",
       "    </tr>\n",
       "    <tr>\n",
       "      <th>11164</th>\n",
       "      <td>29.0</td>\n",
       "      <td>62</td>\n",
       "      <td>13.0</td>\n",
       "      <td>17.0</td>\n",
       "      <td>overcast</td>\n",
       "      <td>1002.81</td>\n",
       "      <td>2</td>\n",
       "      <td>Spring</td>\n",
       "      <td>5.0</td>\n",
       "      <td>coastal</td>\n",
       "      <td>Cloudy</td>\n",
       "    </tr>\n",
       "    <tr>\n",
       "      <th>11165</th>\n",
       "      <td>10.0</td>\n",
       "      <td>74</td>\n",
       "      <td>14.5</td>\n",
       "      <td>71.0</td>\n",
       "      <td>overcast</td>\n",
       "      <td>1003.15</td>\n",
       "      <td>1</td>\n",
       "      <td>Summer</td>\n",
       "      <td>1.0</td>\n",
       "      <td>mountain</td>\n",
       "      <td>Rainy</td>\n",
       "    </tr>\n",
       "    <tr>\n",
       "      <th>11166</th>\n",
       "      <td>30.0</td>\n",
       "      <td>77</td>\n",
       "      <td>5.5</td>\n",
       "      <td>28.0</td>\n",
       "      <td>overcast</td>\n",
       "      <td>1012.69</td>\n",
       "      <td>3</td>\n",
       "      <td>Autumn</td>\n",
       "      <td>9.0</td>\n",
       "      <td>coastal</td>\n",
       "      <td>Cloudy</td>\n",
       "    </tr>\n",
       "    <tr>\n",
       "      <th>11167</th>\n",
       "      <td>3.0</td>\n",
       "      <td>76</td>\n",
       "      <td>10.0</td>\n",
       "      <td>94.0</td>\n",
       "      <td>overcast</td>\n",
       "      <td>984.27</td>\n",
       "      <td>0</td>\n",
       "      <td>Winter</td>\n",
       "      <td>2.0</td>\n",
       "      <td>inland</td>\n",
       "      <td>Snowy</td>\n",
       "    </tr>\n",
       "    <tr>\n",
       "      <th>11168</th>\n",
       "      <td>-5.0</td>\n",
       "      <td>38</td>\n",
       "      <td>0.0</td>\n",
       "      <td>92.0</td>\n",
       "      <td>overcast</td>\n",
       "      <td>1015.37</td>\n",
       "      <td>5</td>\n",
       "      <td>Autumn</td>\n",
       "      <td>10.0</td>\n",
       "      <td>mountain</td>\n",
       "      <td>Rainy</td>\n",
       "    </tr>\n",
       "  </tbody>\n",
       "</table>\n",
       "<p>11169 rows × 11 columns</p>\n",
       "</div>"
      ],
      "text/plain": [
       "       Temperature  Humidity  Wind Speed  Precipitation (%)    Cloud Cover  \\\n",
       "0             14.0        73         9.5               82.0  partly cloudy   \n",
       "1             39.0        96         8.5               71.0  partly cloudy   \n",
       "2             30.0        64         7.0               16.0          clear   \n",
       "3             38.0        83         1.5               82.0          clear   \n",
       "4             27.0        74        17.0               66.0       overcast   \n",
       "...            ...       ...         ...                ...            ...   \n",
       "11164         29.0        62        13.0               17.0       overcast   \n",
       "11165         10.0        74        14.5               71.0       overcast   \n",
       "11166         30.0        77         5.5               28.0       overcast   \n",
       "11167          3.0        76        10.0               94.0       overcast   \n",
       "11168         -5.0        38         0.0               92.0       overcast   \n",
       "\n",
       "       Atmospheric Pressure  UV Index  Season  Visibility (km)  Location  \\\n",
       "0                   1010.82         2  Winter              3.5    inland   \n",
       "1                   1011.43         7  Spring             10.0    inland   \n",
       "2                   1018.72         5  Spring              5.5  mountain   \n",
       "3                   1026.25         7  Spring              1.0   coastal   \n",
       "4                    990.67         1  Winter              2.5  mountain   \n",
       "...                     ...       ...     ...              ...       ...   \n",
       "11164               1002.81         2  Spring              5.0   coastal   \n",
       "11165               1003.15         1  Summer              1.0  mountain   \n",
       "11166               1012.69         3  Autumn              9.0   coastal   \n",
       "11167                984.27         0  Winter              2.0    inland   \n",
       "11168               1015.37         5  Autumn             10.0  mountain   \n",
       "\n",
       "      Weather Type  \n",
       "0            Rainy  \n",
       "1           Cloudy  \n",
       "2            Sunny  \n",
       "3            Sunny  \n",
       "4            Rainy  \n",
       "...            ...  \n",
       "11164       Cloudy  \n",
       "11165        Rainy  \n",
       "11166       Cloudy  \n",
       "11167        Snowy  \n",
       "11168        Rainy  \n",
       "\n",
       "[11169 rows x 11 columns]"
      ]
     },
     "execution_count": 49,
     "metadata": {},
     "output_type": "execute_result"
    }
   ],
   "source": [
    "cleaned_df = data.copy()\n",
    "\n",
    "for column in data.columns:\n",
    "    if data[column].dtype != 'object':\n",
    "        lq = round(data[column].quantile(0.25), 2)\n",
    "        up = round(data[column].quantile(0.75), 2)\n",
    "        iqr = round(up - lq, 2)\n",
    "        \n",
    "        upper_limit = round(up + 1.5 * iqr, 2)\n",
    "        lower_limit = round(lq - 1.5 * iqr, 2)\n",
    "        \n",
    "        cleaned_df = cleaned_df[(cleaned_df[column] >= lower_limit) & (cleaned_df[column] <= upper_limit)]\n",
    "        \n",
    "cleaned_df = cleaned_df[(cleaned_df['Humidity'] <= 100) & (cleaned_df['Precipitation (%)'] <= 100)]\n",
    "\n",
    "cleaned_df.reset_index(drop = True)"
   ]
  },
  {
   "cell_type": "code",
   "execution_count": 50,
   "metadata": {},
   "outputs": [
    {
     "data": {
      "application/vnd.microsoft.datawrangler.viewer.v0+json": {
       "columns": [
        {
         "name": "index",
         "rawType": "int64",
         "type": "integer"
        },
        {
         "name": "Temperature",
         "rawType": "float64",
         "type": "float"
        },
        {
         "name": "Humidity",
         "rawType": "int64",
         "type": "integer"
        },
        {
         "name": "Wind Speed",
         "rawType": "float64",
         "type": "float"
        },
        {
         "name": "Precipitation (%)",
         "rawType": "float64",
         "type": "float"
        },
        {
         "name": "Cloud Cover",
         "rawType": "object",
         "type": "string"
        },
        {
         "name": "Atmospheric Pressure",
         "rawType": "float64",
         "type": "float"
        },
        {
         "name": "UV Index",
         "rawType": "int64",
         "type": "integer"
        },
        {
         "name": "Season",
         "rawType": "object",
         "type": "string"
        },
        {
         "name": "Visibility (km)",
         "rawType": "float64",
         "type": "float"
        },
        {
         "name": "Location",
         "rawType": "object",
         "type": "string"
        },
        {
         "name": "Weather Type",
         "rawType": "object",
         "type": "string"
        }
       ],
       "conversionMethod": "pd.DataFrame",
       "ref": "1ce678a4-3cd7-4274-b4c7-1564151b4336",
       "rows": [
        [
         "0",
         "14.0",
         "73",
         "9.5",
         "82.0",
         "partly cloudy",
         "1010.82",
         "2",
         "Winter",
         "3.5",
         "inland",
         "Rainy"
        ],
        [
         "1",
         "39.0",
         "96",
         "8.5",
         "71.0",
         "partly cloudy",
         "1011.43",
         "7",
         "Spring",
         "10.0",
         "inland",
         "Cloudy"
        ],
        [
         "2",
         "30.0",
         "64",
         "7.0",
         "16.0",
         "clear",
         "1018.72",
         "5",
         "Spring",
         "5.5",
         "mountain",
         "Sunny"
        ],
        [
         "3",
         "38.0",
         "83",
         "1.5",
         "82.0",
         "clear",
         "1026.25",
         "7",
         "Spring",
         "1.0",
         "coastal",
         "Sunny"
        ],
        [
         "4",
         "27.0",
         "74",
         "17.0",
         "66.0",
         "overcast",
         "990.67",
         "1",
         "Winter",
         "2.5",
         "mountain",
         "Rainy"
        ],
        [
         "5",
         "32.0",
         "55",
         "3.5",
         "26.0",
         "overcast",
         "1010.03",
         "2",
         "Summer",
         "5.0",
         "inland",
         "Cloudy"
        ],
        [
         "6",
         "-2.0",
         "97",
         "8.0",
         "86.0",
         "overcast",
         "990.87",
         "1",
         "Winter",
         "4.0",
         "inland",
         "Snowy"
        ],
        [
         "7",
         "3.0",
         "85",
         "6.0",
         "96.0",
         "partly cloudy",
         "984.46",
         "1",
         "Winter",
         "3.5",
         "inland",
         "Snowy"
        ],
        [
         "8",
         "3.0",
         "83",
         "6.0",
         "66.0",
         "overcast",
         "999.44",
         "0",
         "Winter",
         "1.0",
         "mountain",
         "Snowy"
        ],
        [
         "11",
         "38.0",
         "43",
         "2.0",
         "16.0",
         "clear",
         "1029.16",
         "11",
         "Autumn",
         "7.5",
         "inland",
         "Sunny"
        ],
        [
         "12",
         "12.0",
         "59",
         "10.5",
         "25.0",
         "partly cloudy",
         "1016.08",
         "3",
         "Autumn",
         "5.5",
         "mountain",
         "Cloudy"
        ],
        [
         "13",
         "-10.0",
         "87",
         "15.0",
         "67.0",
         "overcast",
         "986.19",
         "0",
         "Winter",
         "1.5",
         "inland",
         "Snowy"
        ],
        [
         "14",
         "24.0",
         "21",
         "3.5",
         "8.0",
         "clear",
         "1018.88",
         "8",
         "Winter",
         "5.5",
         "coastal",
         "Sunny"
        ],
        [
         "15",
         "10.0",
         "50",
         "6.5",
         "46.0",
         "partly cloudy",
         "1000.44",
         "2",
         "Summer",
         "8.5",
         "mountain",
         "Cloudy"
        ],
        [
         "16",
         "30.0",
         "27",
         "7.0",
         "13.0",
         "partly cloudy",
         "1016.38",
         "5",
         "Spring",
         "7.5",
         "inland",
         "Sunny"
        ],
        [
         "17",
         "33.0",
         "51",
         "0.5",
         "27.0",
         "overcast",
         "1009.18",
         "3",
         "Autumn",
         "5.5",
         "coastal",
         "Cloudy"
        ],
        [
         "18",
         "43.0",
         "46",
         "0.5",
         "15.0",
         "clear",
         "1025.8",
         "9",
         "Spring",
         "6.0",
         "mountain",
         "Sunny"
        ],
        [
         "20",
         "-10.0",
         "67",
         "8.5",
         "75.0",
         "overcast",
         "991.53",
         "1",
         "Winter",
         "3.0",
         "mountain",
         "Snowy"
        ],
        [
         "21",
         "-7.0",
         "88",
         "12.5",
         "98.0",
         "overcast",
         "980.31",
         "1",
         "Winter",
         "3.0",
         "inland",
         "Snowy"
        ],
        [
         "22",
         "33.0",
         "36",
         "7.5",
         "18.0",
         "clear",
         "1014.29",
         "8",
         "Summer",
         "9.5",
         "mountain",
         "Sunny"
        ],
        [
         "23",
         "26.0",
         "73",
         "13.5",
         "29.0",
         "overcast",
         "1012.02",
         "1",
         "Summer",
         "9.0",
         "inland",
         "Cloudy"
        ],
        [
         "25",
         "4.0",
         "79",
         "1.0",
         "85.0",
         "partly cloudy",
         "982.53",
         "1",
         "Winter",
         "4.5",
         "inland",
         "Snowy"
        ],
        [
         "26",
         "17.0",
         "72",
         "7.5",
         "62.0",
         "overcast",
         "1010.16",
         "2",
         "Summer",
         "3.0",
         "mountain",
         "Rainy"
        ],
        [
         "27",
         "40.0",
         "57",
         "4.0",
         "12.0",
         "partly cloudy",
         "1020.73",
         "11",
         "Winter",
         "9.5",
         "coastal",
         "Sunny"
        ],
        [
         "28",
         "24.0",
         "61",
         "6.5",
         "3.0",
         "partly cloudy",
         "1018.15",
         "7",
         "Autumn",
         "5.5",
         "mountain",
         "Sunny"
        ],
        [
         "29",
         "30.0",
         "70",
         "16.0",
         "54.0",
         "partly cloudy",
         "1007.75",
         "0",
         "Winter",
         "3.0",
         "mountain",
         "Rainy"
        ],
        [
         "30",
         "28.0",
         "85",
         "7.0",
         "97.0",
         "overcast",
         "991.07",
         "1",
         "Spring",
         "2.0",
         "coastal",
         "Rainy"
        ],
        [
         "31",
         "2.0",
         "61",
         "16.5",
         "63.0",
         "overcast",
         "995.74",
         "0",
         "Winter",
         "1.0",
         "inland",
         "Snowy"
        ],
        [
         "32",
         "4.0",
         "95",
         "2.5",
         "56.0",
         "overcast",
         "984.63",
         "1",
         "Winter",
         "4.5",
         "inland",
         "Snowy"
        ],
        [
         "33",
         "15.0",
         "97",
         "23.0",
         "91.0",
         "overcast",
         "1009.36",
         "13",
         "Winter",
         "2.5",
         "mountain",
         "Rainy"
        ],
        [
         "34",
         "29.0",
         "69",
         "3.0",
         "15.0",
         "clear",
         "1012.09",
         "10",
         "Winter",
         "5.5",
         "inland",
         "Sunny"
        ],
        [
         "35",
         "35.0",
         "21",
         "10.0",
         "6.0",
         "clear",
         "1026.81",
         "5",
         "Autumn",
         "7.5",
         "coastal",
         "Sunny"
        ],
        [
         "36",
         "11.0",
         "90",
         "25.5",
         "76.0",
         "partly cloudy",
         "996.17",
         "0",
         "Winter",
         "1.0",
         "mountain",
         "Rainy"
        ],
        [
         "39",
         "27.0",
         "64",
         "11.5",
         "37.0",
         "partly cloudy",
         "1017.27",
         "3",
         "Autumn",
         "8.0",
         "coastal",
         "Cloudy"
        ],
        [
         "40",
         "32.0",
         "37",
         "0.5",
         "9.0",
         "partly cloudy",
         "1013.99",
         "11",
         "Winter",
         "8.5",
         "inland",
         "Sunny"
        ],
        [
         "41",
         "36.0",
         "22",
         "1.0",
         "0.0",
         "clear",
         "1028.63",
         "10",
         "Summer",
         "5.5",
         "mountain",
         "Sunny"
        ],
        [
         "42",
         "28.0",
         "54",
         "15.0",
         "39.0",
         "partly cloudy",
         "1018.86",
         "3",
         "Winter",
         "8.5",
         "mountain",
         "Cloudy"
        ],
        [
         "43",
         "42.0",
         "64",
         "2.0",
         "18.0",
         "partly cloudy",
         "1028.55",
         "8",
         "Autumn",
         "8.0",
         "mountain",
         "Sunny"
        ],
        [
         "44",
         "21.0",
         "43",
         "10.0",
         "11.0",
         "clear",
         "1019.41",
         "11",
         "Spring",
         "6.0",
         "mountain",
         "Sunny"
        ],
        [
         "45",
         "22.0",
         "50",
         "0.0",
         "18.0",
         "clear",
         "1016.5",
         "5",
         "Summer",
         "8.0",
         "coastal",
         "Sunny"
        ],
        [
         "46",
         "33.0",
         "66",
         "9.0",
         "18.0",
         "partly cloudy",
         "1014.34",
         "3",
         "Autumn",
         "6.0",
         "mountain",
         "Cloudy"
        ],
        [
         "47",
         "26.0",
         "25",
         "2.5",
         "14.0",
         "partly cloudy",
         "1010.34",
         "8",
         "Winter",
         "5.0",
         "mountain",
         "Sunny"
        ],
        [
         "48",
         "26.0",
         "91",
         "9.5",
         "82.0",
         "overcast",
         "1019.42",
         "3",
         "Summer",
         "4.0",
         "mountain",
         "Rainy"
        ],
        [
         "49",
         "-2.0",
         "98",
         "18.5",
         "86.0",
         "overcast",
         "981.26",
         "0",
         "Winter",
         "3.5",
         "mountain",
         "Snowy"
        ],
        [
         "50",
         "17.0",
         "90",
         "11.0",
         "98.0",
         "overcast",
         "1017.49",
         "3",
         "Winter",
         "4.0",
         "inland",
         "Rainy"
        ],
        [
         "51",
         "25.0",
         "55",
         "8.5",
         "37.0",
         "partly cloudy",
         "1014.49",
         "4",
         "Summer",
         "7.5",
         "inland",
         "Cloudy"
        ],
        [
         "52",
         "-4.0",
         "96",
         "20.0",
         "88.0",
         "partly cloudy",
         "990.72",
         "1",
         "Winter",
         "4.5",
         "mountain",
         "Snowy"
        ],
        [
         "53",
         "-1.0",
         "87",
         "14.0",
         "78.0",
         "overcast",
         "984.11",
         "0",
         "Winter",
         "4.0",
         "inland",
         "Snowy"
        ],
        [
         "54",
         "-5.0",
         "94",
         "5.5",
         "55.0",
         "overcast",
         "991.65",
         "0",
         "Winter",
         "3.0",
         "inland",
         "Snowy"
        ],
        [
         "55",
         "22.0",
         "95",
         "13.0",
         "90.0",
         "overcast",
         "997.97",
         "3",
         "Autumn",
         "2.5",
         "coastal",
         "Rainy"
        ]
       ],
       "shape": {
        "columns": 11,
        "rows": 11169
       }
      },
      "text/html": [
       "<div>\n",
       "<style scoped>\n",
       "    .dataframe tbody tr th:only-of-type {\n",
       "        vertical-align: middle;\n",
       "    }\n",
       "\n",
       "    .dataframe tbody tr th {\n",
       "        vertical-align: top;\n",
       "    }\n",
       "\n",
       "    .dataframe thead th {\n",
       "        text-align: right;\n",
       "    }\n",
       "</style>\n",
       "<table border=\"1\" class=\"dataframe\">\n",
       "  <thead>\n",
       "    <tr style=\"text-align: right;\">\n",
       "      <th></th>\n",
       "      <th>Temperature</th>\n",
       "      <th>Humidity</th>\n",
       "      <th>Wind Speed</th>\n",
       "      <th>Precipitation (%)</th>\n",
       "      <th>Cloud Cover</th>\n",
       "      <th>Atmospheric Pressure</th>\n",
       "      <th>UV Index</th>\n",
       "      <th>Season</th>\n",
       "      <th>Visibility (km)</th>\n",
       "      <th>Location</th>\n",
       "      <th>Weather Type</th>\n",
       "    </tr>\n",
       "  </thead>\n",
       "  <tbody>\n",
       "    <tr>\n",
       "      <th>0</th>\n",
       "      <td>14.0</td>\n",
       "      <td>73</td>\n",
       "      <td>9.5</td>\n",
       "      <td>82.0</td>\n",
       "      <td>partly cloudy</td>\n",
       "      <td>1010.82</td>\n",
       "      <td>2</td>\n",
       "      <td>Winter</td>\n",
       "      <td>3.5</td>\n",
       "      <td>inland</td>\n",
       "      <td>Rainy</td>\n",
       "    </tr>\n",
       "    <tr>\n",
       "      <th>1</th>\n",
       "      <td>39.0</td>\n",
       "      <td>96</td>\n",
       "      <td>8.5</td>\n",
       "      <td>71.0</td>\n",
       "      <td>partly cloudy</td>\n",
       "      <td>1011.43</td>\n",
       "      <td>7</td>\n",
       "      <td>Spring</td>\n",
       "      <td>10.0</td>\n",
       "      <td>inland</td>\n",
       "      <td>Cloudy</td>\n",
       "    </tr>\n",
       "    <tr>\n",
       "      <th>2</th>\n",
       "      <td>30.0</td>\n",
       "      <td>64</td>\n",
       "      <td>7.0</td>\n",
       "      <td>16.0</td>\n",
       "      <td>clear</td>\n",
       "      <td>1018.72</td>\n",
       "      <td>5</td>\n",
       "      <td>Spring</td>\n",
       "      <td>5.5</td>\n",
       "      <td>mountain</td>\n",
       "      <td>Sunny</td>\n",
       "    </tr>\n",
       "    <tr>\n",
       "      <th>3</th>\n",
       "      <td>38.0</td>\n",
       "      <td>83</td>\n",
       "      <td>1.5</td>\n",
       "      <td>82.0</td>\n",
       "      <td>clear</td>\n",
       "      <td>1026.25</td>\n",
       "      <td>7</td>\n",
       "      <td>Spring</td>\n",
       "      <td>1.0</td>\n",
       "      <td>coastal</td>\n",
       "      <td>Sunny</td>\n",
       "    </tr>\n",
       "    <tr>\n",
       "      <th>4</th>\n",
       "      <td>27.0</td>\n",
       "      <td>74</td>\n",
       "      <td>17.0</td>\n",
       "      <td>66.0</td>\n",
       "      <td>overcast</td>\n",
       "      <td>990.67</td>\n",
       "      <td>1</td>\n",
       "      <td>Winter</td>\n",
       "      <td>2.5</td>\n",
       "      <td>mountain</td>\n",
       "      <td>Rainy</td>\n",
       "    </tr>\n",
       "    <tr>\n",
       "      <th>...</th>\n",
       "      <td>...</td>\n",
       "      <td>...</td>\n",
       "      <td>...</td>\n",
       "      <td>...</td>\n",
       "      <td>...</td>\n",
       "      <td>...</td>\n",
       "      <td>...</td>\n",
       "      <td>...</td>\n",
       "      <td>...</td>\n",
       "      <td>...</td>\n",
       "      <td>...</td>\n",
       "    </tr>\n",
       "    <tr>\n",
       "      <th>13194</th>\n",
       "      <td>29.0</td>\n",
       "      <td>62</td>\n",
       "      <td>13.0</td>\n",
       "      <td>17.0</td>\n",
       "      <td>overcast</td>\n",
       "      <td>1002.81</td>\n",
       "      <td>2</td>\n",
       "      <td>Spring</td>\n",
       "      <td>5.0</td>\n",
       "      <td>coastal</td>\n",
       "      <td>Cloudy</td>\n",
       "    </tr>\n",
       "    <tr>\n",
       "      <th>13195</th>\n",
       "      <td>10.0</td>\n",
       "      <td>74</td>\n",
       "      <td>14.5</td>\n",
       "      <td>71.0</td>\n",
       "      <td>overcast</td>\n",
       "      <td>1003.15</td>\n",
       "      <td>1</td>\n",
       "      <td>Summer</td>\n",
       "      <td>1.0</td>\n",
       "      <td>mountain</td>\n",
       "      <td>Rainy</td>\n",
       "    </tr>\n",
       "    <tr>\n",
       "      <th>13197</th>\n",
       "      <td>30.0</td>\n",
       "      <td>77</td>\n",
       "      <td>5.5</td>\n",
       "      <td>28.0</td>\n",
       "      <td>overcast</td>\n",
       "      <td>1012.69</td>\n",
       "      <td>3</td>\n",
       "      <td>Autumn</td>\n",
       "      <td>9.0</td>\n",
       "      <td>coastal</td>\n",
       "      <td>Cloudy</td>\n",
       "    </tr>\n",
       "    <tr>\n",
       "      <th>13198</th>\n",
       "      <td>3.0</td>\n",
       "      <td>76</td>\n",
       "      <td>10.0</td>\n",
       "      <td>94.0</td>\n",
       "      <td>overcast</td>\n",
       "      <td>984.27</td>\n",
       "      <td>0</td>\n",
       "      <td>Winter</td>\n",
       "      <td>2.0</td>\n",
       "      <td>inland</td>\n",
       "      <td>Snowy</td>\n",
       "    </tr>\n",
       "    <tr>\n",
       "      <th>13199</th>\n",
       "      <td>-5.0</td>\n",
       "      <td>38</td>\n",
       "      <td>0.0</td>\n",
       "      <td>92.0</td>\n",
       "      <td>overcast</td>\n",
       "      <td>1015.37</td>\n",
       "      <td>5</td>\n",
       "      <td>Autumn</td>\n",
       "      <td>10.0</td>\n",
       "      <td>mountain</td>\n",
       "      <td>Rainy</td>\n",
       "    </tr>\n",
       "  </tbody>\n",
       "</table>\n",
       "<p>11169 rows × 11 columns</p>\n",
       "</div>"
      ],
      "text/plain": [
       "       Temperature  Humidity  Wind Speed  Precipitation (%)    Cloud Cover  \\\n",
       "0             14.0        73         9.5               82.0  partly cloudy   \n",
       "1             39.0        96         8.5               71.0  partly cloudy   \n",
       "2             30.0        64         7.0               16.0          clear   \n",
       "3             38.0        83         1.5               82.0          clear   \n",
       "4             27.0        74        17.0               66.0       overcast   \n",
       "...            ...       ...         ...                ...            ...   \n",
       "13194         29.0        62        13.0               17.0       overcast   \n",
       "13195         10.0        74        14.5               71.0       overcast   \n",
       "13197         30.0        77         5.5               28.0       overcast   \n",
       "13198          3.0        76        10.0               94.0       overcast   \n",
       "13199         -5.0        38         0.0               92.0       overcast   \n",
       "\n",
       "       Atmospheric Pressure  UV Index  Season  Visibility (km)  Location  \\\n",
       "0                   1010.82         2  Winter              3.5    inland   \n",
       "1                   1011.43         7  Spring             10.0    inland   \n",
       "2                   1018.72         5  Spring              5.5  mountain   \n",
       "3                   1026.25         7  Spring              1.0   coastal   \n",
       "4                    990.67         1  Winter              2.5  mountain   \n",
       "...                     ...       ...     ...              ...       ...   \n",
       "13194               1002.81         2  Spring              5.0   coastal   \n",
       "13195               1003.15         1  Summer              1.0  mountain   \n",
       "13197               1012.69         3  Autumn              9.0   coastal   \n",
       "13198                984.27         0  Winter              2.0    inland   \n",
       "13199               1015.37         5  Autumn             10.0  mountain   \n",
       "\n",
       "      Weather Type  \n",
       "0            Rainy  \n",
       "1           Cloudy  \n",
       "2            Sunny  \n",
       "3            Sunny  \n",
       "4            Rainy  \n",
       "...            ...  \n",
       "13194       Cloudy  \n",
       "13195        Rainy  \n",
       "13197       Cloudy  \n",
       "13198        Snowy  \n",
       "13199        Rainy  \n",
       "\n",
       "[11169 rows x 11 columns]"
      ]
     },
     "execution_count": 50,
     "metadata": {},
     "output_type": "execute_result"
    }
   ],
   "source": [
    "cleaned_df"
   ]
  },
  {
   "cell_type": "code",
   "execution_count": 51,
   "metadata": {},
   "outputs": [
    {
     "data": {
      "application/vnd.microsoft.datawrangler.viewer.v0+json": {
       "columns": [
        {
         "name": "index",
         "rawType": "object",
         "type": "string"
        },
        {
         "name": "Temperature",
         "rawType": "float64",
         "type": "float"
        },
        {
         "name": "Humidity",
         "rawType": "float64",
         "type": "float"
        },
        {
         "name": "Wind Speed",
         "rawType": "float64",
         "type": "float"
        },
        {
         "name": "Precipitation (%)",
         "rawType": "float64",
         "type": "float"
        },
        {
         "name": "Atmospheric Pressure",
         "rawType": "float64",
         "type": "float"
        },
        {
         "name": "UV Index",
         "rawType": "float64",
         "type": "float"
        },
        {
         "name": "Visibility (km)",
         "rawType": "float64",
         "type": "float"
        }
       ],
       "conversionMethod": "pd.DataFrame",
       "ref": "eb8c15f7-0b96-4cbc-9af4-20f185c8e684",
       "rows": [
        [
         "count",
         "11169.0",
         "11169.0",
         "11169.0",
         "11169.0",
         "11169.0",
         "11169.0",
         "11169.0"
        ],
        [
         "mean",
         "18.730772674366552",
         "68.22795236816188",
         "9.045035365744472",
         "49.967051660846984",
         "1006.227645268153",
         "3.4473990509445787",
         "5.133225893096965"
        ],
        [
         "std",
         "15.48924386888011",
         "18.752367647243567",
         "5.483877999125905",
         "31.238421744804953",
         "12.953354937742455",
         "3.47557671491971",
         "2.5783437249160026"
        ],
        [
         "min",
         "-24.0",
         "20.0",
         "0.0",
         "0.0",
         "962.88",
         "0.0",
         "0.0"
        ],
        [
         "25%",
         "5.0",
         "58.0",
         "5.0",
         "18.0",
         "995.78",
         "1.0",
         "3.0"
        ],
        [
         "50%",
         "21.0",
         "69.0",
         "8.5",
         "54.0",
         "1007.79",
         "2.0",
         "5.0"
        ],
        [
         "75%",
         "30.0",
         "82.0",
         "13.0",
         "78.0",
         "1016.28",
         "5.0",
         "7.5"
        ],
        [
         "max",
         "71.0",
         "100.0",
         "26.0",
         "100.0",
         "1049.2",
         "14.0",
         "14.0"
        ]
       ],
       "shape": {
        "columns": 7,
        "rows": 8
       }
      },
      "text/html": [
       "<div>\n",
       "<style scoped>\n",
       "    .dataframe tbody tr th:only-of-type {\n",
       "        vertical-align: middle;\n",
       "    }\n",
       "\n",
       "    .dataframe tbody tr th {\n",
       "        vertical-align: top;\n",
       "    }\n",
       "\n",
       "    .dataframe thead th {\n",
       "        text-align: right;\n",
       "    }\n",
       "</style>\n",
       "<table border=\"1\" class=\"dataframe\">\n",
       "  <thead>\n",
       "    <tr style=\"text-align: right;\">\n",
       "      <th></th>\n",
       "      <th>Temperature</th>\n",
       "      <th>Humidity</th>\n",
       "      <th>Wind Speed</th>\n",
       "      <th>Precipitation (%)</th>\n",
       "      <th>Atmospheric Pressure</th>\n",
       "      <th>UV Index</th>\n",
       "      <th>Visibility (km)</th>\n",
       "    </tr>\n",
       "  </thead>\n",
       "  <tbody>\n",
       "    <tr>\n",
       "      <th>count</th>\n",
       "      <td>11169.000000</td>\n",
       "      <td>11169.000000</td>\n",
       "      <td>11169.000000</td>\n",
       "      <td>11169.000000</td>\n",
       "      <td>11169.000000</td>\n",
       "      <td>11169.000000</td>\n",
       "      <td>11169.000000</td>\n",
       "    </tr>\n",
       "    <tr>\n",
       "      <th>mean</th>\n",
       "      <td>18.730773</td>\n",
       "      <td>68.227952</td>\n",
       "      <td>9.045035</td>\n",
       "      <td>49.967052</td>\n",
       "      <td>1006.227645</td>\n",
       "      <td>3.447399</td>\n",
       "      <td>5.133226</td>\n",
       "    </tr>\n",
       "    <tr>\n",
       "      <th>std</th>\n",
       "      <td>15.489244</td>\n",
       "      <td>18.752368</td>\n",
       "      <td>5.483878</td>\n",
       "      <td>31.238422</td>\n",
       "      <td>12.953355</td>\n",
       "      <td>3.475577</td>\n",
       "      <td>2.578344</td>\n",
       "    </tr>\n",
       "    <tr>\n",
       "      <th>min</th>\n",
       "      <td>-24.000000</td>\n",
       "      <td>20.000000</td>\n",
       "      <td>0.000000</td>\n",
       "      <td>0.000000</td>\n",
       "      <td>962.880000</td>\n",
       "      <td>0.000000</td>\n",
       "      <td>0.000000</td>\n",
       "    </tr>\n",
       "    <tr>\n",
       "      <th>25%</th>\n",
       "      <td>5.000000</td>\n",
       "      <td>58.000000</td>\n",
       "      <td>5.000000</td>\n",
       "      <td>18.000000</td>\n",
       "      <td>995.780000</td>\n",
       "      <td>1.000000</td>\n",
       "      <td>3.000000</td>\n",
       "    </tr>\n",
       "    <tr>\n",
       "      <th>50%</th>\n",
       "      <td>21.000000</td>\n",
       "      <td>69.000000</td>\n",
       "      <td>8.500000</td>\n",
       "      <td>54.000000</td>\n",
       "      <td>1007.790000</td>\n",
       "      <td>2.000000</td>\n",
       "      <td>5.000000</td>\n",
       "    </tr>\n",
       "    <tr>\n",
       "      <th>75%</th>\n",
       "      <td>30.000000</td>\n",
       "      <td>82.000000</td>\n",
       "      <td>13.000000</td>\n",
       "      <td>78.000000</td>\n",
       "      <td>1016.280000</td>\n",
       "      <td>5.000000</td>\n",
       "      <td>7.500000</td>\n",
       "    </tr>\n",
       "    <tr>\n",
       "      <th>max</th>\n",
       "      <td>71.000000</td>\n",
       "      <td>100.000000</td>\n",
       "      <td>26.000000</td>\n",
       "      <td>100.000000</td>\n",
       "      <td>1049.200000</td>\n",
       "      <td>14.000000</td>\n",
       "      <td>14.000000</td>\n",
       "    </tr>\n",
       "  </tbody>\n",
       "</table>\n",
       "</div>"
      ],
      "text/plain": [
       "        Temperature      Humidity    Wind Speed  Precipitation (%)  \\\n",
       "count  11169.000000  11169.000000  11169.000000       11169.000000   \n",
       "mean      18.730773     68.227952      9.045035          49.967052   \n",
       "std       15.489244     18.752368      5.483878          31.238422   \n",
       "min      -24.000000     20.000000      0.000000           0.000000   \n",
       "25%        5.000000     58.000000      5.000000          18.000000   \n",
       "50%       21.000000     69.000000      8.500000          54.000000   \n",
       "75%       30.000000     82.000000     13.000000          78.000000   \n",
       "max       71.000000    100.000000     26.000000         100.000000   \n",
       "\n",
       "       Atmospheric Pressure      UV Index  Visibility (km)  \n",
       "count          11169.000000  11169.000000     11169.000000  \n",
       "mean            1006.227645      3.447399         5.133226  \n",
       "std               12.953355      3.475577         2.578344  \n",
       "min              962.880000      0.000000         0.000000  \n",
       "25%              995.780000      1.000000         3.000000  \n",
       "50%             1007.790000      2.000000         5.000000  \n",
       "75%             1016.280000      5.000000         7.500000  \n",
       "max             1049.200000     14.000000        14.000000  "
      ]
     },
     "execution_count": 51,
     "metadata": {},
     "output_type": "execute_result"
    }
   ],
   "source": [
    "cleaned_df.describe()"
   ]
  },
  {
   "cell_type": "markdown",
   "metadata": {},
   "source": [
    "### Variable Selection"
   ]
  },
  {
   "cell_type": "code",
   "execution_count": 52,
   "metadata": {},
   "outputs": [
    {
     "data": {
      "application/vnd.microsoft.datawrangler.viewer.v0+json": {
       "columns": [
        {
         "name": "index",
         "rawType": "int64",
         "type": "integer"
        },
        {
         "name": "Temperature",
         "rawType": "float64",
         "type": "float"
        },
        {
         "name": "Humidity",
         "rawType": "int64",
         "type": "integer"
        },
        {
         "name": "Wind Speed",
         "rawType": "float64",
         "type": "float"
        },
        {
         "name": "Precipitation (%)",
         "rawType": "float64",
         "type": "float"
        },
        {
         "name": "Cloud Cover",
         "rawType": "object",
         "type": "string"
        },
        {
         "name": "Atmospheric Pressure",
         "rawType": "float64",
         "type": "float"
        },
        {
         "name": "UV Index",
         "rawType": "int64",
         "type": "integer"
        },
        {
         "name": "Season",
         "rawType": "object",
         "type": "string"
        },
        {
         "name": "Visibility (km)",
         "rawType": "float64",
         "type": "float"
        },
        {
         "name": "Location",
         "rawType": "object",
         "type": "string"
        }
       ],
       "conversionMethod": "pd.DataFrame",
       "ref": "7107addb-b53a-4969-a536-b3e9d1148f89",
       "rows": [
        [
         "0",
         "14.0",
         "73",
         "9.5",
         "82.0",
         "partly cloudy",
         "1010.82",
         "2",
         "Winter",
         "3.5",
         "inland"
        ],
        [
         "1",
         "39.0",
         "96",
         "8.5",
         "71.0",
         "partly cloudy",
         "1011.43",
         "7",
         "Spring",
         "10.0",
         "inland"
        ],
        [
         "2",
         "30.0",
         "64",
         "7.0",
         "16.0",
         "clear",
         "1018.72",
         "5",
         "Spring",
         "5.5",
         "mountain"
        ],
        [
         "3",
         "38.0",
         "83",
         "1.5",
         "82.0",
         "clear",
         "1026.25",
         "7",
         "Spring",
         "1.0",
         "coastal"
        ],
        [
         "4",
         "27.0",
         "74",
         "17.0",
         "66.0",
         "overcast",
         "990.67",
         "1",
         "Winter",
         "2.5",
         "mountain"
        ]
       ],
       "shape": {
        "columns": 10,
        "rows": 5
       }
      },
      "text/html": [
       "<div>\n",
       "<style scoped>\n",
       "    .dataframe tbody tr th:only-of-type {\n",
       "        vertical-align: middle;\n",
       "    }\n",
       "\n",
       "    .dataframe tbody tr th {\n",
       "        vertical-align: top;\n",
       "    }\n",
       "\n",
       "    .dataframe thead th {\n",
       "        text-align: right;\n",
       "    }\n",
       "</style>\n",
       "<table border=\"1\" class=\"dataframe\">\n",
       "  <thead>\n",
       "    <tr style=\"text-align: right;\">\n",
       "      <th></th>\n",
       "      <th>Temperature</th>\n",
       "      <th>Humidity</th>\n",
       "      <th>Wind Speed</th>\n",
       "      <th>Precipitation (%)</th>\n",
       "      <th>Cloud Cover</th>\n",
       "      <th>Atmospheric Pressure</th>\n",
       "      <th>UV Index</th>\n",
       "      <th>Season</th>\n",
       "      <th>Visibility (km)</th>\n",
       "      <th>Location</th>\n",
       "    </tr>\n",
       "  </thead>\n",
       "  <tbody>\n",
       "    <tr>\n",
       "      <th>0</th>\n",
       "      <td>14.0</td>\n",
       "      <td>73</td>\n",
       "      <td>9.5</td>\n",
       "      <td>82.0</td>\n",
       "      <td>partly cloudy</td>\n",
       "      <td>1010.82</td>\n",
       "      <td>2</td>\n",
       "      <td>Winter</td>\n",
       "      <td>3.5</td>\n",
       "      <td>inland</td>\n",
       "    </tr>\n",
       "    <tr>\n",
       "      <th>1</th>\n",
       "      <td>39.0</td>\n",
       "      <td>96</td>\n",
       "      <td>8.5</td>\n",
       "      <td>71.0</td>\n",
       "      <td>partly cloudy</td>\n",
       "      <td>1011.43</td>\n",
       "      <td>7</td>\n",
       "      <td>Spring</td>\n",
       "      <td>10.0</td>\n",
       "      <td>inland</td>\n",
       "    </tr>\n",
       "    <tr>\n",
       "      <th>2</th>\n",
       "      <td>30.0</td>\n",
       "      <td>64</td>\n",
       "      <td>7.0</td>\n",
       "      <td>16.0</td>\n",
       "      <td>clear</td>\n",
       "      <td>1018.72</td>\n",
       "      <td>5</td>\n",
       "      <td>Spring</td>\n",
       "      <td>5.5</td>\n",
       "      <td>mountain</td>\n",
       "    </tr>\n",
       "    <tr>\n",
       "      <th>3</th>\n",
       "      <td>38.0</td>\n",
       "      <td>83</td>\n",
       "      <td>1.5</td>\n",
       "      <td>82.0</td>\n",
       "      <td>clear</td>\n",
       "      <td>1026.25</td>\n",
       "      <td>7</td>\n",
       "      <td>Spring</td>\n",
       "      <td>1.0</td>\n",
       "      <td>coastal</td>\n",
       "    </tr>\n",
       "    <tr>\n",
       "      <th>4</th>\n",
       "      <td>27.0</td>\n",
       "      <td>74</td>\n",
       "      <td>17.0</td>\n",
       "      <td>66.0</td>\n",
       "      <td>overcast</td>\n",
       "      <td>990.67</td>\n",
       "      <td>1</td>\n",
       "      <td>Winter</td>\n",
       "      <td>2.5</td>\n",
       "      <td>mountain</td>\n",
       "    </tr>\n",
       "  </tbody>\n",
       "</table>\n",
       "</div>"
      ],
      "text/plain": [
       "   Temperature  Humidity  Wind Speed  Precipitation (%)    Cloud Cover  \\\n",
       "0         14.0        73         9.5               82.0  partly cloudy   \n",
       "1         39.0        96         8.5               71.0  partly cloudy   \n",
       "2         30.0        64         7.0               16.0          clear   \n",
       "3         38.0        83         1.5               82.0          clear   \n",
       "4         27.0        74        17.0               66.0       overcast   \n",
       "\n",
       "   Atmospheric Pressure  UV Index  Season  Visibility (km)  Location  \n",
       "0               1010.82         2  Winter              3.5    inland  \n",
       "1               1011.43         7  Spring             10.0    inland  \n",
       "2               1018.72         5  Spring              5.5  mountain  \n",
       "3               1026.25         7  Spring              1.0   coastal  \n",
       "4                990.67         1  Winter              2.5  mountain  "
      ]
     },
     "metadata": {},
     "output_type": "display_data"
    },
    {
     "data": {
      "text/plain": [
       "0     Rainy\n",
       "1    Cloudy\n",
       "2     Sunny\n",
       "3     Sunny\n",
       "4     Rainy\n",
       "Name: Weather Type, dtype: object"
      ]
     },
     "metadata": {},
     "output_type": "display_data"
    }
   ],
   "source": [
    "X = cleaned_df.drop('Weather Type', axis = 1)\n",
    "y = cleaned_df['Weather Type']\n",
    "\n",
    "display(X.head())\n",
    "display(y.head())"
   ]
  },
  {
   "cell_type": "markdown",
   "metadata": {},
   "source": [
    "### Encoding"
   ]
  },
  {
   "cell_type": "code",
   "execution_count": 53,
   "metadata": {},
   "outputs": [
    {
     "data": {
      "text/plain": [
       "(11169, 15)"
      ]
     },
     "metadata": {},
     "output_type": "display_data"
    },
    {
     "data": {
      "text/plain": [
       "(11169, 4)"
      ]
     },
     "metadata": {},
     "output_type": "display_data"
    },
    {
     "data": {
      "text/plain": [
       "array([[0., 1., 0., 0.],\n",
       "       [1., 0., 0., 0.],\n",
       "       [0., 0., 0., 1.],\n",
       "       ...,\n",
       "       [1., 0., 0., 0.],\n",
       "       [0., 0., 1., 0.],\n",
       "       [0., 1., 0., 0.]])"
      ]
     },
     "execution_count": 53,
     "metadata": {},
     "output_type": "execute_result"
    }
   ],
   "source": [
    "categorical_columns = X.select_dtypes(include=['object']).columns\n",
    "X = pd.get_dummies(X, columns=categorical_columns, drop_first=True)\n",
    "X = np.array(X)\n",
    "y = np.array(y)\n",
    "\n",
    "le = LabelEncoder()\n",
    "y = le.fit_transform(y)\n",
    "y = to_categorical(y)\n",
    "\n",
    "display(X.shape)\n",
    "\n",
    "display(y.shape)\n",
    "\n",
    "y"
   ]
  },
  {
   "cell_type": "markdown",
   "metadata": {},
   "source": [
    "### Train-Test Split"
   ]
  },
  {
   "cell_type": "code",
   "execution_count": 54,
   "metadata": {},
   "outputs": [],
   "source": [
    "X_train, X_test, y_train, y_test = train_test_split(X, y, test_size=0.2, random_state=42)"
   ]
  },
  {
   "cell_type": "markdown",
   "metadata": {},
   "source": [
    "### Feature Scaling"
   ]
  },
  {
   "cell_type": "code",
   "execution_count": 55,
   "metadata": {},
   "outputs": [],
   "source": [
    "sc = StandardScaler()\n",
    "X_train = sc.fit_transform(X_train)\n",
    "X_test = sc.transform(X_test)"
   ]
  },
  {
   "cell_type": "markdown",
   "metadata": {},
   "source": [
    "## Creating the ANN"
   ]
  },
  {
   "cell_type": "markdown",
   "metadata": {},
   "source": [
    "### Initializing the ANN"
   ]
  },
  {
   "cell_type": "code",
   "execution_count": 56,
   "metadata": {},
   "outputs": [],
   "source": [
    "ann = tf.keras.models.Sequential()"
   ]
  },
  {
   "cell_type": "markdown",
   "metadata": {},
   "source": [
    "### Adding Input Layer and Hidden Layers"
   ]
  },
  {
   "cell_type": "code",
   "execution_count": 57,
   "metadata": {},
   "outputs": [],
   "source": [
    "ann.add(tf.keras.layers.Dense(units = 20, activation = 'relu'))\n",
    "ann.add(tf.keras.layers.Dense(units = 20, activation = 'relu'))"
   ]
  },
  {
   "cell_type": "markdown",
   "metadata": {},
   "source": [
    "### Adding Output Layer"
   ]
  },
  {
   "cell_type": "code",
   "execution_count": 58,
   "metadata": {},
   "outputs": [],
   "source": [
    "ann.add(tf.keras.layers.Dense(units = 4, activation = 'softmax'))"
   ]
  },
  {
   "cell_type": "markdown",
   "metadata": {},
   "source": [
    "## Training the ANN"
   ]
  },
  {
   "cell_type": "markdown",
   "metadata": {},
   "source": [
    "### Compiling the ANN"
   ]
  },
  {
   "cell_type": "code",
   "execution_count": 59,
   "metadata": {},
   "outputs": [],
   "source": [
    "ann.compile(optimizer = 'adam', loss = 'categorical_crossentropy', metrics = ['accuracy'])"
   ]
  },
  {
   "cell_type": "markdown",
   "metadata": {},
   "source": [
    "### Training the ANN"
   ]
  },
  {
   "cell_type": "code",
   "execution_count": 60,
   "metadata": {},
   "outputs": [
    {
     "name": "stdout",
     "output_type": "stream",
     "text": [
      "Epoch 1/100\n",
      "\u001b[1m280/280\u001b[0m \u001b[32m━━━━━━━━━━━━━━━━━━━━\u001b[0m\u001b[37m\u001b[0m \u001b[1m1s\u001b[0m 1ms/step - accuracy: 0.6383 - loss: 0.9066\n",
      "Epoch 2/100\n",
      "\u001b[1m280/280\u001b[0m \u001b[32m━━━━━━━━━━━━━━━━━━━━\u001b[0m\u001b[37m\u001b[0m \u001b[1m0s\u001b[0m 995us/step - accuracy: 0.9490 - loss: 0.2131\n",
      "Epoch 3/100\n",
      "\u001b[1m280/280\u001b[0m \u001b[32m━━━━━━━━━━━━━━━━━━━━\u001b[0m\u001b[37m\u001b[0m \u001b[1m0s\u001b[0m 904us/step - accuracy: 0.9643 - loss: 0.1456\n",
      "Epoch 4/100\n",
      "\u001b[1m280/280\u001b[0m \u001b[32m━━━━━━━━━━━━━━━━━━━━\u001b[0m\u001b[37m\u001b[0m \u001b[1m0s\u001b[0m 1ms/step - accuracy: 0.9678 - loss: 0.1257  \n",
      "Epoch 5/100\n",
      "\u001b[1m280/280\u001b[0m \u001b[32m━━━━━━━━━━━━━━━━━━━━\u001b[0m\u001b[37m\u001b[0m \u001b[1m0s\u001b[0m 1ms/step - accuracy: 0.9725 - loss: 0.1082  \n",
      "Epoch 6/100\n",
      "\u001b[1m280/280\u001b[0m \u001b[32m━━━━━━━━━━━━━━━━━━━━\u001b[0m\u001b[37m\u001b[0m \u001b[1m0s\u001b[0m 1ms/step - accuracy: 0.9725 - loss: 0.1040\n",
      "Epoch 7/100\n",
      "\u001b[1m280/280\u001b[0m \u001b[32m━━━━━━━━━━━━━━━━━━━━\u001b[0m\u001b[37m\u001b[0m \u001b[1m0s\u001b[0m 2ms/step - accuracy: 0.9732 - loss: 0.1025\n",
      "Epoch 8/100\n",
      "\u001b[1m280/280\u001b[0m \u001b[32m━━━━━━━━━━━━━━━━━━━━\u001b[0m\u001b[37m\u001b[0m \u001b[1m0s\u001b[0m 1ms/step - accuracy: 0.9759 - loss: 0.0936\n",
      "Epoch 9/100\n",
      "\u001b[1m280/280\u001b[0m \u001b[32m━━━━━━━━━━━━━━━━━━━━\u001b[0m\u001b[37m\u001b[0m \u001b[1m0s\u001b[0m 1ms/step - accuracy: 0.9767 - loss: 0.0859\n",
      "Epoch 10/100\n",
      "\u001b[1m280/280\u001b[0m \u001b[32m━━━━━━━━━━━━━━━━━━━━\u001b[0m\u001b[37m\u001b[0m \u001b[1m0s\u001b[0m 1ms/step - accuracy: 0.9773 - loss: 0.0816\n",
      "Epoch 11/100\n",
      "\u001b[1m280/280\u001b[0m \u001b[32m━━━━━━━━━━━━━━━━━━━━\u001b[0m\u001b[37m\u001b[0m \u001b[1m0s\u001b[0m 1ms/step - accuracy: 0.9761 - loss: 0.0872\n",
      "Epoch 12/100\n",
      "\u001b[1m280/280\u001b[0m \u001b[32m━━━━━━━━━━━━━━━━━━━━\u001b[0m\u001b[37m\u001b[0m \u001b[1m0s\u001b[0m 1ms/step - accuracy: 0.9757 - loss: 0.0891\n",
      "Epoch 13/100\n",
      "\u001b[1m280/280\u001b[0m \u001b[32m━━━━━━━━━━━━━━━━━━━━\u001b[0m\u001b[37m\u001b[0m \u001b[1m0s\u001b[0m 1ms/step - accuracy: 0.9790 - loss: 0.0703\n",
      "Epoch 14/100\n",
      "\u001b[1m280/280\u001b[0m \u001b[32m━━━━━━━━━━━━━━━━━━━━\u001b[0m\u001b[37m\u001b[0m \u001b[1m0s\u001b[0m 1ms/step - accuracy: 0.9788 - loss: 0.0714\n",
      "Epoch 15/100\n",
      "\u001b[1m280/280\u001b[0m \u001b[32m━━━━━━━━━━━━━━━━━━━━\u001b[0m\u001b[37m\u001b[0m \u001b[1m0s\u001b[0m 1ms/step - accuracy: 0.9761 - loss: 0.0742\n",
      "Epoch 16/100\n",
      "\u001b[1m280/280\u001b[0m \u001b[32m━━━━━━━━━━━━━━━━━━━━\u001b[0m\u001b[37m\u001b[0m \u001b[1m0s\u001b[0m 1ms/step - accuracy: 0.9809 - loss: 0.0630\n",
      "Epoch 17/100\n",
      "\u001b[1m280/280\u001b[0m \u001b[32m━━━━━━━━━━━━━━━━━━━━\u001b[0m\u001b[37m\u001b[0m \u001b[1m0s\u001b[0m 1ms/step - accuracy: 0.9773 - loss: 0.0700\n",
      "Epoch 18/100\n",
      "\u001b[1m280/280\u001b[0m \u001b[32m━━━━━━━━━━━━━━━━━━━━\u001b[0m\u001b[37m\u001b[0m \u001b[1m0s\u001b[0m 1ms/step - accuracy: 0.9807 - loss: 0.0652\n",
      "Epoch 19/100\n",
      "\u001b[1m280/280\u001b[0m \u001b[32m━━━━━━━━━━━━━━━━━━━━\u001b[0m\u001b[37m\u001b[0m \u001b[1m0s\u001b[0m 1ms/step - accuracy: 0.9770 - loss: 0.0721\n",
      "Epoch 20/100\n",
      "\u001b[1m280/280\u001b[0m \u001b[32m━━━━━━━━━━━━━━━━━━━━\u001b[0m\u001b[37m\u001b[0m \u001b[1m0s\u001b[0m 1ms/step - accuracy: 0.9801 - loss: 0.0610  \n",
      "Epoch 21/100\n",
      "\u001b[1m280/280\u001b[0m \u001b[32m━━━━━━━━━━━━━━━━━━━━\u001b[0m\u001b[37m\u001b[0m \u001b[1m0s\u001b[0m 1ms/step - accuracy: 0.9828 - loss: 0.0588\n",
      "Epoch 22/100\n",
      "\u001b[1m280/280\u001b[0m \u001b[32m━━━━━━━━━━━━━━━━━━━━\u001b[0m\u001b[37m\u001b[0m \u001b[1m0s\u001b[0m 1ms/step - accuracy: 0.9807 - loss: 0.0608\n",
      "Epoch 23/100\n",
      "\u001b[1m280/280\u001b[0m \u001b[32m━━━━━━━━━━━━━━━━━━━━\u001b[0m\u001b[37m\u001b[0m \u001b[1m1s\u001b[0m 1ms/step - accuracy: 0.9813 - loss: 0.0567\n",
      "Epoch 24/100\n",
      "\u001b[1m280/280\u001b[0m \u001b[32m━━━━━━━━━━━━━━━━━━━━\u001b[0m\u001b[37m\u001b[0m \u001b[1m0s\u001b[0m 1ms/step - accuracy: 0.9825 - loss: 0.0562  \n",
      "Epoch 25/100\n",
      "\u001b[1m280/280\u001b[0m \u001b[32m━━━━━━━━━━━━━━━━━━━━\u001b[0m\u001b[37m\u001b[0m \u001b[1m0s\u001b[0m 951us/step - accuracy: 0.9775 - loss: 0.0650\n",
      "Epoch 26/100\n",
      "\u001b[1m280/280\u001b[0m \u001b[32m━━━━━━━━━━━━━━━━━━━━\u001b[0m\u001b[37m\u001b[0m \u001b[1m0s\u001b[0m 1ms/step - accuracy: 0.9812 - loss: 0.0560  \n",
      "Epoch 27/100\n",
      "\u001b[1m280/280\u001b[0m \u001b[32m━━━━━━━━━━━━━━━━━━━━\u001b[0m\u001b[37m\u001b[0m \u001b[1m0s\u001b[0m 1ms/step - accuracy: 0.9792 - loss: 0.0585  \n",
      "Epoch 28/100\n",
      "\u001b[1m280/280\u001b[0m \u001b[32m━━━━━━━━━━━━━━━━━━━━\u001b[0m\u001b[37m\u001b[0m \u001b[1m0s\u001b[0m 984us/step - accuracy: 0.9823 - loss: 0.0494\n",
      "Epoch 29/100\n",
      "\u001b[1m280/280\u001b[0m \u001b[32m━━━━━━━━━━━━━━━━━━━━\u001b[0m\u001b[37m\u001b[0m \u001b[1m0s\u001b[0m 984us/step - accuracy: 0.9800 - loss: 0.0546\n",
      "Epoch 30/100\n",
      "\u001b[1m280/280\u001b[0m \u001b[32m━━━━━━━━━━━━━━━━━━━━\u001b[0m\u001b[37m\u001b[0m \u001b[1m0s\u001b[0m 1ms/step - accuracy: 0.9845 - loss: 0.0480\n",
      "Epoch 31/100\n",
      "\u001b[1m280/280\u001b[0m \u001b[32m━━━━━━━━━━━━━━━━━━━━\u001b[0m\u001b[37m\u001b[0m \u001b[1m0s\u001b[0m 987us/step - accuracy: 0.9826 - loss: 0.0482\n",
      "Epoch 32/100\n",
      "\u001b[1m280/280\u001b[0m \u001b[32m━━━━━━━━━━━━━━━━━━━━\u001b[0m\u001b[37m\u001b[0m \u001b[1m0s\u001b[0m 986us/step - accuracy: 0.9809 - loss: 0.0574\n",
      "Epoch 33/100\n",
      "\u001b[1m280/280\u001b[0m \u001b[32m━━━━━━━━━━━━━━━━━━━━\u001b[0m\u001b[37m\u001b[0m \u001b[1m0s\u001b[0m 1ms/step - accuracy: 0.9833 - loss: 0.0495\n",
      "Epoch 34/100\n",
      "\u001b[1m280/280\u001b[0m \u001b[32m━━━━━━━━━━━━━━━━━━━━\u001b[0m\u001b[37m\u001b[0m \u001b[1m0s\u001b[0m 1ms/step - accuracy: 0.9839 - loss: 0.0460\n",
      "Epoch 35/100\n",
      "\u001b[1m280/280\u001b[0m \u001b[32m━━━━━━━━━━━━━━━━━━━━\u001b[0m\u001b[37m\u001b[0m \u001b[1m0s\u001b[0m 1ms/step - accuracy: 0.9841 - loss: 0.0473  \n",
      "Epoch 36/100\n",
      "\u001b[1m280/280\u001b[0m \u001b[32m━━━━━━━━━━━━━━━━━━━━\u001b[0m\u001b[37m\u001b[0m \u001b[1m0s\u001b[0m 1ms/step - accuracy: 0.9849 - loss: 0.0447\n",
      "Epoch 37/100\n",
      "\u001b[1m280/280\u001b[0m \u001b[32m━━━━━━━━━━━━━━━━━━━━\u001b[0m\u001b[37m\u001b[0m \u001b[1m0s\u001b[0m 1ms/step - accuracy: 0.9851 - loss: 0.0449\n",
      "Epoch 38/100\n",
      "\u001b[1m280/280\u001b[0m \u001b[32m━━━━━━━━━━━━━━━━━━━━\u001b[0m\u001b[37m\u001b[0m \u001b[1m0s\u001b[0m 989us/step - accuracy: 0.9830 - loss: 0.0452\n",
      "Epoch 39/100\n",
      "\u001b[1m280/280\u001b[0m \u001b[32m━━━━━━━━━━━━━━━━━━━━\u001b[0m\u001b[37m\u001b[0m \u001b[1m0s\u001b[0m 1ms/step - accuracy: 0.9848 - loss: 0.0429\n",
      "Epoch 40/100\n",
      "\u001b[1m280/280\u001b[0m \u001b[32m━━━━━━━━━━━━━━━━━━━━\u001b[0m\u001b[37m\u001b[0m \u001b[1m0s\u001b[0m 1ms/step - accuracy: 0.9869 - loss: 0.0398  \n",
      "Epoch 41/100\n",
      "\u001b[1m280/280\u001b[0m \u001b[32m━━━━━━━━━━━━━━━━━━━━\u001b[0m\u001b[37m\u001b[0m \u001b[1m0s\u001b[0m 930us/step - accuracy: 0.9843 - loss: 0.0456\n",
      "Epoch 42/100\n",
      "\u001b[1m280/280\u001b[0m \u001b[32m━━━━━━━━━━━━━━━━━━━━\u001b[0m\u001b[37m\u001b[0m \u001b[1m0s\u001b[0m 1ms/step - accuracy: 0.9872 - loss: 0.0362\n",
      "Epoch 43/100\n",
      "\u001b[1m280/280\u001b[0m \u001b[32m━━━━━━━━━━━━━━━━━━━━\u001b[0m\u001b[37m\u001b[0m \u001b[1m0s\u001b[0m 962us/step - accuracy: 0.9859 - loss: 0.0408\n",
      "Epoch 44/100\n",
      "\u001b[1m280/280\u001b[0m \u001b[32m━━━━━━━━━━━━━━━━━━━━\u001b[0m\u001b[37m\u001b[0m \u001b[1m0s\u001b[0m 951us/step - accuracy: 0.9882 - loss: 0.0366\n",
      "Epoch 45/100\n",
      "\u001b[1m280/280\u001b[0m \u001b[32m━━━━━━━━━━━━━━━━━━━━\u001b[0m\u001b[37m\u001b[0m \u001b[1m0s\u001b[0m 1ms/step - accuracy: 0.9868 - loss: 0.0365\n",
      "Epoch 46/100\n",
      "\u001b[1m280/280\u001b[0m \u001b[32m━━━━━━━━━━━━━━━━━━━━\u001b[0m\u001b[37m\u001b[0m \u001b[1m0s\u001b[0m 1ms/step - accuracy: 0.9868 - loss: 0.0421  \n",
      "Epoch 47/100\n",
      "\u001b[1m280/280\u001b[0m \u001b[32m━━━━━━━━━━━━━━━━━━━━\u001b[0m\u001b[37m\u001b[0m \u001b[1m0s\u001b[0m 1ms/step - accuracy: 0.9876 - loss: 0.0400  \n",
      "Epoch 48/100\n",
      "\u001b[1m280/280\u001b[0m \u001b[32m━━━━━━━━━━━━━━━━━━━━\u001b[0m\u001b[37m\u001b[0m \u001b[1m0s\u001b[0m 1ms/step - accuracy: 0.9871 - loss: 0.0367\n",
      "Epoch 49/100\n",
      "\u001b[1m280/280\u001b[0m \u001b[32m━━━━━━━━━━━━━━━━━━━━\u001b[0m\u001b[37m\u001b[0m \u001b[1m0s\u001b[0m 1ms/step - accuracy: 0.9868 - loss: 0.0379  \n",
      "Epoch 50/100\n",
      "\u001b[1m280/280\u001b[0m \u001b[32m━━━━━━━━━━━━━━━━━━━━\u001b[0m\u001b[37m\u001b[0m \u001b[1m0s\u001b[0m 974us/step - accuracy: 0.9892 - loss: 0.0342\n",
      "Epoch 51/100\n",
      "\u001b[1m280/280\u001b[0m \u001b[32m━━━━━━━━━━━━━━━━━━━━\u001b[0m\u001b[37m\u001b[0m \u001b[1m0s\u001b[0m 1ms/step - accuracy: 0.9875 - loss: 0.0389  \n",
      "Epoch 52/100\n",
      "\u001b[1m280/280\u001b[0m \u001b[32m━━━━━━━━━━━━━━━━━━━━\u001b[0m\u001b[37m\u001b[0m \u001b[1m0s\u001b[0m 1ms/step - accuracy: 0.9880 - loss: 0.0335\n",
      "Epoch 53/100\n",
      "\u001b[1m280/280\u001b[0m \u001b[32m━━━━━━━━━━━━━━━━━━━━\u001b[0m\u001b[37m\u001b[0m \u001b[1m0s\u001b[0m 1ms/step - accuracy: 0.9875 - loss: 0.0371  \n",
      "Epoch 54/100\n",
      "\u001b[1m280/280\u001b[0m \u001b[32m━━━━━━━━━━━━━━━━━━━━\u001b[0m\u001b[37m\u001b[0m \u001b[1m0s\u001b[0m 976us/step - accuracy: 0.9881 - loss: 0.0342\n",
      "Epoch 55/100\n",
      "\u001b[1m280/280\u001b[0m \u001b[32m━━━━━━━━━━━━━━━━━━━━\u001b[0m\u001b[37m\u001b[0m \u001b[1m0s\u001b[0m 1ms/step - accuracy: 0.9886 - loss: 0.0340\n",
      "Epoch 56/100\n",
      "\u001b[1m280/280\u001b[0m \u001b[32m━━━━━━━━━━━━━━━━━━━━\u001b[0m\u001b[37m\u001b[0m \u001b[1m0s\u001b[0m 1ms/step - accuracy: 0.9885 - loss: 0.0346  \n",
      "Epoch 57/100\n",
      "\u001b[1m280/280\u001b[0m \u001b[32m━━━━━━━━━━━━━━━━━━━━\u001b[0m\u001b[37m\u001b[0m \u001b[1m0s\u001b[0m 955us/step - accuracy: 0.9888 - loss: 0.0326\n",
      "Epoch 58/100\n",
      "\u001b[1m280/280\u001b[0m \u001b[32m━━━━━━━━━━━━━━━━━━━━\u001b[0m\u001b[37m\u001b[0m \u001b[1m0s\u001b[0m 1ms/step - accuracy: 0.9887 - loss: 0.0320\n",
      "Epoch 59/100\n",
      "\u001b[1m280/280\u001b[0m \u001b[32m━━━━━━━━━━━━━━━━━━━━\u001b[0m\u001b[37m\u001b[0m \u001b[1m0s\u001b[0m 984us/step - accuracy: 0.9905 - loss: 0.0287\n",
      "Epoch 60/100\n",
      "\u001b[1m280/280\u001b[0m \u001b[32m━━━━━━━━━━━━━━━━━━━━\u001b[0m\u001b[37m\u001b[0m \u001b[1m0s\u001b[0m 955us/step - accuracy: 0.9886 - loss: 0.0330\n",
      "Epoch 61/100\n",
      "\u001b[1m280/280\u001b[0m \u001b[32m━━━━━━━━━━━━━━━━━━━━\u001b[0m\u001b[37m\u001b[0m \u001b[1m0s\u001b[0m 1ms/step - accuracy: 0.9899 - loss: 0.0303  \n",
      "Epoch 62/100\n",
      "\u001b[1m280/280\u001b[0m \u001b[32m━━━━━━━━━━━━━━━━━━━━\u001b[0m\u001b[37m\u001b[0m \u001b[1m0s\u001b[0m 1ms/step - accuracy: 0.9917 - loss: 0.0260  \n",
      "Epoch 63/100\n",
      "\u001b[1m280/280\u001b[0m \u001b[32m━━━━━━━━━━━━━━━━━━━━\u001b[0m\u001b[37m\u001b[0m \u001b[1m0s\u001b[0m 970us/step - accuracy: 0.9907 - loss: 0.0295\n",
      "Epoch 64/100\n",
      "\u001b[1m280/280\u001b[0m \u001b[32m━━━━━━━━━━━━━━━━━━━━\u001b[0m\u001b[37m\u001b[0m \u001b[1m0s\u001b[0m 1ms/step - accuracy: 0.9895 - loss: 0.0311  \n",
      "Epoch 65/100\n",
      "\u001b[1m280/280\u001b[0m \u001b[32m━━━━━━━━━━━━━━━━━━━━\u001b[0m\u001b[37m\u001b[0m \u001b[1m0s\u001b[0m 1ms/step - accuracy: 0.9915 - loss: 0.0265  \n",
      "Epoch 66/100\n",
      "\u001b[1m280/280\u001b[0m \u001b[32m━━━━━━━━━━━━━━━━━━━━\u001b[0m\u001b[37m\u001b[0m \u001b[1m0s\u001b[0m 1ms/step - accuracy: 0.9905 - loss: 0.0283  \n",
      "Epoch 67/100\n",
      "\u001b[1m280/280\u001b[0m \u001b[32m━━━━━━━━━━━━━━━━━━━━\u001b[0m\u001b[37m\u001b[0m \u001b[1m0s\u001b[0m 987us/step - accuracy: 0.9909 - loss: 0.0274\n",
      "Epoch 68/100\n",
      "\u001b[1m280/280\u001b[0m \u001b[32m━━━━━━━━━━━━━━━━━━━━\u001b[0m\u001b[37m\u001b[0m \u001b[1m0s\u001b[0m 1ms/step - accuracy: 0.9920 - loss: 0.0257\n",
      "Epoch 69/100\n",
      "\u001b[1m280/280\u001b[0m \u001b[32m━━━━━━━━━━━━━━━━━━━━\u001b[0m\u001b[37m\u001b[0m \u001b[1m0s\u001b[0m 1ms/step - accuracy: 0.9902 - loss: 0.0263\n",
      "Epoch 70/100\n",
      "\u001b[1m280/280\u001b[0m \u001b[32m━━━━━━━━━━━━━━━━━━━━\u001b[0m\u001b[37m\u001b[0m \u001b[1m0s\u001b[0m 1ms/step - accuracy: 0.9902 - loss: 0.0257  \n",
      "Epoch 71/100\n",
      "\u001b[1m280/280\u001b[0m \u001b[32m━━━━━━━━━━━━━━━━━━━━\u001b[0m\u001b[37m\u001b[0m \u001b[1m0s\u001b[0m 1ms/step - accuracy: 0.9930 - loss: 0.0257\n",
      "Epoch 72/100\n",
      "\u001b[1m280/280\u001b[0m \u001b[32m━━━━━━━━━━━━━━━━━━━━\u001b[0m\u001b[37m\u001b[0m \u001b[1m0s\u001b[0m 978us/step - accuracy: 0.9889 - loss: 0.0300\n",
      "Epoch 73/100\n",
      "\u001b[1m280/280\u001b[0m \u001b[32m━━━━━━━━━━━━━━━━━━━━\u001b[0m\u001b[37m\u001b[0m \u001b[1m0s\u001b[0m 923us/step - accuracy: 0.9919 - loss: 0.0247\n",
      "Epoch 74/100\n",
      "\u001b[1m280/280\u001b[0m \u001b[32m━━━━━━━━━━━━━━━━━━━━\u001b[0m\u001b[37m\u001b[0m \u001b[1m0s\u001b[0m 1ms/step - accuracy: 0.9916 - loss: 0.0242\n",
      "Epoch 75/100\n",
      "\u001b[1m280/280\u001b[0m \u001b[32m━━━━━━━━━━━━━━━━━━━━\u001b[0m\u001b[37m\u001b[0m \u001b[1m0s\u001b[0m 1ms/step - accuracy: 0.9912 - loss: 0.0255\n",
      "Epoch 76/100\n",
      "\u001b[1m280/280\u001b[0m \u001b[32m━━━━━━━━━━━━━━━━━━━━\u001b[0m\u001b[37m\u001b[0m \u001b[1m0s\u001b[0m 1ms/step - accuracy: 0.9919 - loss: 0.0258\n",
      "Epoch 77/100\n",
      "\u001b[1m280/280\u001b[0m \u001b[32m━━━━━━━━━━━━━━━━━━━━\u001b[0m\u001b[37m\u001b[0m \u001b[1m0s\u001b[0m 1ms/step - accuracy: 0.9895 - loss: 0.0294  \n",
      "Epoch 78/100\n",
      "\u001b[1m280/280\u001b[0m \u001b[32m━━━━━━━━━━━━━━━━━━━━\u001b[0m\u001b[37m\u001b[0m \u001b[1m0s\u001b[0m 1ms/step - accuracy: 0.9914 - loss: 0.0260\n",
      "Epoch 79/100\n",
      "\u001b[1m280/280\u001b[0m \u001b[32m━━━━━━━━━━━━━━━━━━━━\u001b[0m\u001b[37m\u001b[0m \u001b[1m0s\u001b[0m 952us/step - accuracy: 0.9917 - loss: 0.0249\n",
      "Epoch 80/100\n",
      "\u001b[1m280/280\u001b[0m \u001b[32m━━━━━━━━━━━━━━━━━━━━\u001b[0m\u001b[37m\u001b[0m \u001b[1m0s\u001b[0m 1ms/step - accuracy: 0.9923 - loss: 0.0226\n",
      "Epoch 81/100\n",
      "\u001b[1m280/280\u001b[0m \u001b[32m━━━━━━━━━━━━━━━━━━━━\u001b[0m\u001b[37m\u001b[0m \u001b[1m0s\u001b[0m 991us/step - accuracy: 0.9921 - loss: 0.0242\n",
      "Epoch 82/100\n",
      "\u001b[1m280/280\u001b[0m \u001b[32m━━━━━━━━━━━━━━━━━━━━\u001b[0m\u001b[37m\u001b[0m \u001b[1m0s\u001b[0m 974us/step - accuracy: 0.9902 - loss: 0.0269\n",
      "Epoch 83/100\n",
      "\u001b[1m280/280\u001b[0m \u001b[32m━━━━━━━━━━━━━━━━━━━━\u001b[0m\u001b[37m\u001b[0m \u001b[1m0s\u001b[0m 1ms/step - accuracy: 0.9926 - loss: 0.0219  \n",
      "Epoch 84/100\n",
      "\u001b[1m280/280\u001b[0m \u001b[32m━━━━━━━━━━━━━━━━━━━━\u001b[0m\u001b[37m\u001b[0m \u001b[1m0s\u001b[0m 1ms/step - accuracy: 0.9935 - loss: 0.0221  \n",
      "Epoch 85/100\n",
      "\u001b[1m280/280\u001b[0m \u001b[32m━━━━━━━━━━━━━━━━━━━━\u001b[0m\u001b[37m\u001b[0m \u001b[1m0s\u001b[0m 999us/step - accuracy: 0.9937 - loss: 0.0214\n",
      "Epoch 86/100\n",
      "\u001b[1m280/280\u001b[0m \u001b[32m━━━━━━━━━━━━━━━━━━━━\u001b[0m\u001b[37m\u001b[0m \u001b[1m0s\u001b[0m 1ms/step - accuracy: 0.9937 - loss: 0.0214  \n",
      "Epoch 87/100\n",
      "\u001b[1m280/280\u001b[0m \u001b[32m━━━━━━━━━━━━━━━━━━━━\u001b[0m\u001b[37m\u001b[0m \u001b[1m0s\u001b[0m 1ms/step - accuracy: 0.9931 - loss: 0.0211  \n",
      "Epoch 88/100\n",
      "\u001b[1m280/280\u001b[0m \u001b[32m━━━━━━━━━━━━━━━━━━━━\u001b[0m\u001b[37m\u001b[0m \u001b[1m0s\u001b[0m 979us/step - accuracy: 0.9927 - loss: 0.0196\n",
      "Epoch 89/100\n",
      "\u001b[1m280/280\u001b[0m \u001b[32m━━━━━━━━━━━━━━━━━━━━\u001b[0m\u001b[37m\u001b[0m \u001b[1m0s\u001b[0m 938us/step - accuracy: 0.9927 - loss: 0.0236\n",
      "Epoch 90/100\n",
      "\u001b[1m280/280\u001b[0m \u001b[32m━━━━━━━━━━━━━━━━━━━━\u001b[0m\u001b[37m\u001b[0m \u001b[1m0s\u001b[0m 1ms/step - accuracy: 0.9928 - loss: 0.0203\n",
      "Epoch 91/100\n",
      "\u001b[1m280/280\u001b[0m \u001b[32m━━━━━━━━━━━━━━━━━━━━\u001b[0m\u001b[37m\u001b[0m \u001b[1m0s\u001b[0m 1ms/step - accuracy: 0.9934 - loss: 0.0196  \n",
      "Epoch 92/100\n",
      "\u001b[1m280/280\u001b[0m \u001b[32m━━━━━━━━━━━━━━━━━━━━\u001b[0m\u001b[37m\u001b[0m \u001b[1m0s\u001b[0m 980us/step - accuracy: 0.9942 - loss: 0.0205\n",
      "Epoch 93/100\n",
      "\u001b[1m280/280\u001b[0m \u001b[32m━━━━━━━━━━━━━━━━━━━━\u001b[0m\u001b[37m\u001b[0m \u001b[1m0s\u001b[0m 1ms/step - accuracy: 0.9904 - loss: 0.0249\n",
      "Epoch 94/100\n",
      "\u001b[1m280/280\u001b[0m \u001b[32m━━━━━━━━━━━━━━━━━━━━\u001b[0m\u001b[37m\u001b[0m \u001b[1m0s\u001b[0m 1ms/step - accuracy: 0.9937 - loss: 0.0194  \n",
      "Epoch 95/100\n",
      "\u001b[1m280/280\u001b[0m \u001b[32m━━━━━━━━━━━━━━━━━━━━\u001b[0m\u001b[37m\u001b[0m \u001b[1m0s\u001b[0m 1ms/step - accuracy: 0.9935 - loss: 0.0204\n",
      "Epoch 96/100\n",
      "\u001b[1m280/280\u001b[0m \u001b[32m━━━━━━━━━━━━━━━━━━━━\u001b[0m\u001b[37m\u001b[0m \u001b[1m0s\u001b[0m 1ms/step - accuracy: 0.9916 - loss: 0.0215\n",
      "Epoch 97/100\n",
      "\u001b[1m280/280\u001b[0m \u001b[32m━━━━━━━━━━━━━━━━━━━━\u001b[0m\u001b[37m\u001b[0m \u001b[1m0s\u001b[0m 1ms/step - accuracy: 0.9933 - loss: 0.0196\n",
      "Epoch 98/100\n",
      "\u001b[1m280/280\u001b[0m \u001b[32m━━━━━━━━━━━━━━━━━━━━\u001b[0m\u001b[37m\u001b[0m \u001b[1m0s\u001b[0m 981us/step - accuracy: 0.9918 - loss: 0.0234\n",
      "Epoch 99/100\n",
      "\u001b[1m280/280\u001b[0m \u001b[32m━━━━━━━━━━━━━━━━━━━━\u001b[0m\u001b[37m\u001b[0m \u001b[1m0s\u001b[0m 1ms/step - accuracy: 0.9934 - loss: 0.0195\n",
      "Epoch 100/100\n",
      "\u001b[1m280/280\u001b[0m \u001b[32m━━━━━━━━━━━━━━━━━━━━\u001b[0m\u001b[37m\u001b[0m \u001b[1m0s\u001b[0m 1ms/step - accuracy: 0.9952 - loss: 0.0160\n"
     ]
    },
    {
     "data": {
      "text/plain": [
       "<keras.src.callbacks.history.History at 0x1ff2ed9b5c0>"
      ]
     },
     "execution_count": 60,
     "metadata": {},
     "output_type": "execute_result"
    }
   ],
   "source": [
    "ann.fit(X_train, y_train, batch_size = 32, epochs = 100)"
   ]
  },
  {
   "cell_type": "markdown",
   "metadata": {},
   "source": [
    "## Making Predictions and Evaluating the ANN Model"
   ]
  },
  {
   "cell_type": "markdown",
   "metadata": {},
   "source": [
    "### Predicting the Test Set"
   ]
  },
  {
   "cell_type": "code",
   "execution_count": 61,
   "metadata": {},
   "outputs": [
    {
     "name": "stdout",
     "output_type": "stream",
     "text": [
      "\u001b[1m70/70\u001b[0m \u001b[32m━━━━━━━━━━━━━━━━━━━━\u001b[0m\u001b[37m\u001b[0m \u001b[1m0s\u001b[0m 3ms/step\n"
     ]
    },
    {
     "data": {
      "application/vnd.microsoft.datawrangler.viewer.v0+json": {
       "columns": [
        {
         "name": "index",
         "rawType": "int64",
         "type": "integer"
        },
        {
         "name": "Actual",
         "rawType": "object",
         "type": "string"
        },
        {
         "name": "Predicted",
         "rawType": "object",
         "type": "string"
        }
       ],
       "conversionMethod": "pd.DataFrame",
       "ref": "53cb13e6-595b-43a1-bf5a-9c3641083587",
       "rows": [
        [
         "0",
         "Sunny",
         "Sunny"
        ],
        [
         "1",
         "Snowy",
         "Snowy"
        ],
        [
         "2",
         "Cloudy",
         "Cloudy"
        ],
        [
         "3",
         "Rainy",
         "Rainy"
        ],
        [
         "4",
         "Sunny",
         "Sunny"
        ],
        [
         "5",
         "Snowy",
         "Snowy"
        ],
        [
         "6",
         "Snowy",
         "Snowy"
        ],
        [
         "7",
         "Snowy",
         "Snowy"
        ],
        [
         "8",
         "Rainy",
         "Rainy"
        ],
        [
         "9",
         "Sunny",
         "Sunny"
        ],
        [
         "10",
         "Rainy",
         "Rainy"
        ],
        [
         "11",
         "Cloudy",
         "Cloudy"
        ],
        [
         "12",
         "Rainy",
         "Rainy"
        ],
        [
         "13",
         "Rainy",
         "Rainy"
        ],
        [
         "14",
         "Snowy",
         "Snowy"
        ],
        [
         "15",
         "Sunny",
         "Sunny"
        ],
        [
         "16",
         "Rainy",
         "Rainy"
        ],
        [
         "17",
         "Snowy",
         "Snowy"
        ],
        [
         "18",
         "Sunny",
         "Sunny"
        ],
        [
         "19",
         "Cloudy",
         "Cloudy"
        ],
        [
         "20",
         "Rainy",
         "Rainy"
        ],
        [
         "21",
         "Cloudy",
         "Cloudy"
        ],
        [
         "22",
         "Sunny",
         "Sunny"
        ],
        [
         "23",
         "Snowy",
         "Snowy"
        ],
        [
         "24",
         "Snowy",
         "Snowy"
        ],
        [
         "25",
         "Snowy",
         "Snowy"
        ],
        [
         "26",
         "Cloudy",
         "Cloudy"
        ],
        [
         "27",
         "Cloudy",
         "Cloudy"
        ],
        [
         "28",
         "Rainy",
         "Rainy"
        ],
        [
         "29",
         "Cloudy",
         "Cloudy"
        ],
        [
         "30",
         "Rainy",
         "Rainy"
        ],
        [
         "31",
         "Snowy",
         "Snowy"
        ],
        [
         "32",
         "Rainy",
         "Rainy"
        ],
        [
         "33",
         "Rainy",
         "Rainy"
        ],
        [
         "34",
         "Cloudy",
         "Cloudy"
        ],
        [
         "35",
         "Cloudy",
         "Cloudy"
        ],
        [
         "36",
         "Cloudy",
         "Cloudy"
        ],
        [
         "37",
         "Rainy",
         "Rainy"
        ],
        [
         "38",
         "Sunny",
         "Sunny"
        ],
        [
         "39",
         "Sunny",
         "Sunny"
        ],
        [
         "40",
         "Rainy",
         "Rainy"
        ],
        [
         "41",
         "Rainy",
         "Rainy"
        ],
        [
         "42",
         "Rainy",
         "Rainy"
        ],
        [
         "43",
         "Sunny",
         "Sunny"
        ],
        [
         "44",
         "Cloudy",
         "Cloudy"
        ],
        [
         "45",
         "Snowy",
         "Snowy"
        ],
        [
         "46",
         "Sunny",
         "Sunny"
        ],
        [
         "47",
         "Rainy",
         "Rainy"
        ],
        [
         "48",
         "Rainy",
         "Rainy"
        ],
        [
         "49",
         "Cloudy",
         "Cloudy"
        ]
       ],
       "shape": {
        "columns": 2,
        "rows": 2234
       }
      },
      "text/html": [
       "<div>\n",
       "<style scoped>\n",
       "    .dataframe tbody tr th:only-of-type {\n",
       "        vertical-align: middle;\n",
       "    }\n",
       "\n",
       "    .dataframe tbody tr th {\n",
       "        vertical-align: top;\n",
       "    }\n",
       "\n",
       "    .dataframe thead th {\n",
       "        text-align: right;\n",
       "    }\n",
       "</style>\n",
       "<table border=\"1\" class=\"dataframe\">\n",
       "  <thead>\n",
       "    <tr style=\"text-align: right;\">\n",
       "      <th></th>\n",
       "      <th>Actual</th>\n",
       "      <th>Predicted</th>\n",
       "    </tr>\n",
       "  </thead>\n",
       "  <tbody>\n",
       "    <tr>\n",
       "      <th>0</th>\n",
       "      <td>Sunny</td>\n",
       "      <td>Sunny</td>\n",
       "    </tr>\n",
       "    <tr>\n",
       "      <th>1</th>\n",
       "      <td>Snowy</td>\n",
       "      <td>Snowy</td>\n",
       "    </tr>\n",
       "    <tr>\n",
       "      <th>2</th>\n",
       "      <td>Cloudy</td>\n",
       "      <td>Cloudy</td>\n",
       "    </tr>\n",
       "    <tr>\n",
       "      <th>3</th>\n",
       "      <td>Rainy</td>\n",
       "      <td>Rainy</td>\n",
       "    </tr>\n",
       "    <tr>\n",
       "      <th>4</th>\n",
       "      <td>Sunny</td>\n",
       "      <td>Sunny</td>\n",
       "    </tr>\n",
       "    <tr>\n",
       "      <th>...</th>\n",
       "      <td>...</td>\n",
       "      <td>...</td>\n",
       "    </tr>\n",
       "    <tr>\n",
       "      <th>2229</th>\n",
       "      <td>Cloudy</td>\n",
       "      <td>Cloudy</td>\n",
       "    </tr>\n",
       "    <tr>\n",
       "      <th>2230</th>\n",
       "      <td>Cloudy</td>\n",
       "      <td>Cloudy</td>\n",
       "    </tr>\n",
       "    <tr>\n",
       "      <th>2231</th>\n",
       "      <td>Cloudy</td>\n",
       "      <td>Cloudy</td>\n",
       "    </tr>\n",
       "    <tr>\n",
       "      <th>2232</th>\n",
       "      <td>Cloudy</td>\n",
       "      <td>Cloudy</td>\n",
       "    </tr>\n",
       "    <tr>\n",
       "      <th>2233</th>\n",
       "      <td>Sunny</td>\n",
       "      <td>Sunny</td>\n",
       "    </tr>\n",
       "  </tbody>\n",
       "</table>\n",
       "<p>2234 rows × 2 columns</p>\n",
       "</div>"
      ],
      "text/plain": [
       "      Actual Predicted\n",
       "0      Sunny     Sunny\n",
       "1      Snowy     Snowy\n",
       "2     Cloudy    Cloudy\n",
       "3      Rainy     Rainy\n",
       "4      Sunny     Sunny\n",
       "...      ...       ...\n",
       "2229  Cloudy    Cloudy\n",
       "2230  Cloudy    Cloudy\n",
       "2231  Cloudy    Cloudy\n",
       "2232  Cloudy    Cloudy\n",
       "2233   Sunny     Sunny\n",
       "\n",
       "[2234 rows x 2 columns]"
      ]
     },
     "execution_count": 61,
     "metadata": {},
     "output_type": "execute_result"
    }
   ],
   "source": [
    "y_pred = ann.predict(X_test)\n",
    "y_pred_classes = le.inverse_transform(np.argmax(y_pred, axis=1))\n",
    "true_y = le.inverse_transform(np.argmax(y_test, axis=1))\n",
    "\n",
    "prediction_df = pd.DataFrame({'Actual': true_y, 'Predicted': y_pred_classes})\n",
    "prediction_df\n"
   ]
  },
  {
   "cell_type": "markdown",
   "metadata": {},
   "source": [
    "### Confusion Matrix"
   ]
  },
  {
   "cell_type": "code",
   "execution_count": 62,
   "metadata": {},
   "outputs": [
    {
     "data": {
      "image/png": "[encoded data removed]",
      "text/plain": [
       "<Figure size 1000x700 with 2 Axes>"
      ]
     },
     "metadata": {},
     "output_type": "display_data"
    }
   ],
   "source": [
    "confusion_mtx = confusion_matrix(true_y, y_pred_classes)\n",
    "confusion_mtx\n",
    "plt.figure(figsize=(10, 7))\n",
    "\n",
    "sns.heatmap(confusion_mtx, annot=True, fmt='g', cmap='Blues')\n",
    "plt.xlabel('Predicted Label')\n",
    "plt.ylabel('True Label')\n",
    "plt.title('Confusion Matrix')\n",
    "plt.show()"
   ]
  },
  {
   "cell_type": "code",
   "execution_count": 63,
   "metadata": {},
   "outputs": [
    {
     "name": "stdout",
     "output_type": "stream",
     "text": [
      "Accuracy: 97.67%\n"
     ]
    }
   ],
   "source": [
    "accuracy = accuracy_score(true_y, y_pred_classes)\n",
    "print(f\"Accuracy: {accuracy * 100:.2f}%\")"
   ]
  }
 ],
 "metadata": {
  "kernelspec": {
   "display_name": "Python 3",
   "language": "python",
   "name": "python3"
  },
  "language_info": {
   "codemirror_mode": {
    "name": "ipython",
    "version": 3
   },
   "file_extension": ".py",
   "mimetype": "text/x-python",
   "name": "python",
   "nbconvert_exporter": "python",
   "pygments_lexer": "ipython3",
   "version": "3.12.1"
  }
 },
 "nbformat": 4,
 "nbformat_minor": 2
}
